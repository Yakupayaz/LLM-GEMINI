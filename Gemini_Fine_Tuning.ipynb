{
  "cells": [
    {
      "cell_type": "markdown",
      "metadata": {
        "id": "Tce3stUlHN0L"
      },
      "source": [
        "##### Copyright 2024 Google LLC."
      ]
    },
    {
      "cell_type": "code",
      "execution_count": null,
      "metadata": {
        "id": "tuOe1ymfHZPu"
      },
      "outputs": [],
      "source": [
        "#@title Licensed under the Apache License, Version 2.0 (the \"License\");\n",
        "# you may not use this file except in compliance with the License.\n",
        "# You may obtain a copy of the License at\n",
        "#\n",
        "# https://www.apache.org/licenses/LICENSE-2.0\n",
        "#\n",
        "# Unless required by applicable law or agreed to in writing, software\n",
        "# distributed under the License is distributed on an \"AS IS\" BASIS,\n",
        "# WITHOUT WARRANTIES OR CONDITIONS OF ANY KIND, either express or implied.\n",
        "# See the License for the specific language governing permissions and\n",
        "# limitations under the License."
      ]
    },
    {
      "cell_type": "markdown",
      "metadata": {
        "id": "yeadDkMiISin"
      },
      "source": [
        "# Gemini API: Tuning Quickstart with Python"
      ]
    },
    {
      "cell_type": "markdown",
      "metadata": {
        "id": "Jp_CKyzxUqx6"
      },
      "source": [
        "In this notebook, you'll learn how to get started with the tuning service using the Python client library for the Gemini API. Here, you'll learn how to tune the text model behind the Gemini API's text generation service."
      ]
    },
    {
      "cell_type": "markdown",
      "metadata": {
        "id": "4JXd-HdCsKdZ"
      },
      "source": [
        "**Note**: At this time, tuning is only available for the `gemini-1.0-pro-001` model."
      ]
    },
    {
      "cell_type": "markdown",
      "metadata": {
        "id": "sOz_wyZAlCuQ"
      },
      "source": [
        "## Setup"
      ]
    },
    {
      "cell_type": "markdown",
      "metadata": {
        "id": "SWxKvwd-MSIV"
      },
      "source": [
        "### Authenticate"
      ]
    },
    {
      "cell_type": "markdown",
      "metadata": {
        "id": "JjS8Zy1ojIgc"
      },
      "source": [
        "The Gemini API lets you tune models on your own data. Since it's your data and\n",
        "your tuned models this needs stricter access controls than API-Keys can provide.\n",
        "\n",
        "Before you can run this tutorial, you'll need to\n",
        "[setup OAuth for your project](https://ai.google.dev/palm_docs/oauth_quickstart).\n",
        "\n",
        "\n",
        "In Colab the easiest wat to get setup is to copy the contents of your `client_secret.json` file into Colab's \"Secrets manager\" (under the key icon in the left panel) with the secret name `CLIENT_SECRET`."
      ]
    },
    {
      "cell_type": "markdown",
      "metadata": {
        "id": "I6zTC-3mJ0-2"
      },
      "source": [
        "This gcloud command turns the `client_secret.json` file into credentials that can be used to authenticate with the service.\n",
        "\n",
        "> Important: If you're running this in Colab, **don't just click the link it prints**. That will fail. Follow the instructions and copy the `gcloud` command it prints to your local machine and run it there, then paste the output from your local machine back here.\n"
      ]
    },
    {
      "cell_type": "code",
      "source": [
        "import os\n",
        "from google.colab import userdata\n",
        "\n",
        "client_secret=userdata.get('CLIENT_SECRET')"
      ],
      "metadata": {
        "id": "AD-tIcGO9ELz",
        "colab": {
          "base_uri": "https://localhost:8080/",
          "height": 297
        },
        "outputId": "27a0b04e-d77b-4776-c58f-264d85c3cbf8"
      },
      "execution_count": 1,
      "outputs": [
        {
          "output_type": "error",
          "ename": "SecretNotFoundError",
          "evalue": "Secret CLIENT_SECRET does not exist.",
          "traceback": [
            "\u001b[0;31m---------------------------------------------------------------------------\u001b[0m",
            "\u001b[0;31mSecretNotFoundError\u001b[0m                       Traceback (most recent call last)",
            "\u001b[0;32m<ipython-input-1-c70ce4a76954>\u001b[0m in \u001b[0;36m<cell line: 4>\u001b[0;34m()\u001b[0m\n\u001b[1;32m      2\u001b[0m \u001b[0;32mfrom\u001b[0m \u001b[0mgoogle\u001b[0m\u001b[0;34m.\u001b[0m\u001b[0mcolab\u001b[0m \u001b[0;32mimport\u001b[0m \u001b[0muserdata\u001b[0m\u001b[0;34m\u001b[0m\u001b[0;34m\u001b[0m\u001b[0m\n\u001b[1;32m      3\u001b[0m \u001b[0;34m\u001b[0m\u001b[0m\n\u001b[0;32m----> 4\u001b[0;31m \u001b[0mclient_secret\u001b[0m\u001b[0;34m=\u001b[0m\u001b[0muserdata\u001b[0m\u001b[0;34m.\u001b[0m\u001b[0mget\u001b[0m\u001b[0;34m(\u001b[0m\u001b[0;34m'CLIENT_SECRET'\u001b[0m\u001b[0;34m)\u001b[0m\u001b[0;34m\u001b[0m\u001b[0;34m\u001b[0m\u001b[0m\n\u001b[0m",
            "\u001b[0;32m/usr/local/lib/python3.10/dist-packages/google/colab/userdata.py\u001b[0m in \u001b[0;36mget\u001b[0;34m(key)\u001b[0m\n\u001b[1;32m     66\u001b[0m     \u001b[0;32mraise\u001b[0m \u001b[0mTimeoutException\u001b[0m\u001b[0;34m(\u001b[0m\u001b[0mkey\u001b[0m\u001b[0;34m)\u001b[0m\u001b[0;34m\u001b[0m\u001b[0;34m\u001b[0m\u001b[0m\n\u001b[1;32m     67\u001b[0m   \u001b[0;32mif\u001b[0m \u001b[0;32mnot\u001b[0m \u001b[0mresp\u001b[0m\u001b[0;34m.\u001b[0m\u001b[0mget\u001b[0m\u001b[0;34m(\u001b[0m\u001b[0;34m'exists'\u001b[0m\u001b[0;34m,\u001b[0m \u001b[0;32mFalse\u001b[0m\u001b[0;34m)\u001b[0m\u001b[0;34m:\u001b[0m\u001b[0;34m\u001b[0m\u001b[0;34m\u001b[0m\u001b[0m\n\u001b[0;32m---> 68\u001b[0;31m     \u001b[0;32mraise\u001b[0m \u001b[0mSecretNotFoundError\u001b[0m\u001b[0;34m(\u001b[0m\u001b[0mkey\u001b[0m\u001b[0;34m)\u001b[0m\u001b[0;34m\u001b[0m\u001b[0;34m\u001b[0m\u001b[0m\n\u001b[0m\u001b[1;32m     69\u001b[0m   \u001b[0;32mif\u001b[0m \u001b[0;32mnot\u001b[0m \u001b[0mresp\u001b[0m\u001b[0;34m.\u001b[0m\u001b[0mget\u001b[0m\u001b[0;34m(\u001b[0m\u001b[0;34m'access'\u001b[0m\u001b[0;34m,\u001b[0m \u001b[0;32mFalse\u001b[0m\u001b[0;34m)\u001b[0m\u001b[0;34m:\u001b[0m\u001b[0;34m\u001b[0m\u001b[0;34m\u001b[0m\u001b[0m\n\u001b[1;32m     70\u001b[0m     \u001b[0;32mraise\u001b[0m \u001b[0mNotebookAccessError\u001b[0m\u001b[0;34m(\u001b[0m\u001b[0mkey\u001b[0m\u001b[0;34m)\u001b[0m\u001b[0;34m\u001b[0m\u001b[0;34m\u001b[0m\u001b[0m\n",
            "\u001b[0;31mSecretNotFoundError\u001b[0m: Secret CLIENT_SECRET does not exist."
          ]
        }
      ]
    },
    {
      "cell_type": "code",
      "execution_count": 3,
      "metadata": {
        "id": "9FUwyB_MJ0-2",
        "outputId": "09f4b7fc-97d1-435d-d087-2c0ab1a297c8",
        "colab": {
          "base_uri": "https://localhost:8080/"
        }
      },
      "outputs": [
        {
          "output_type": "stream",
          "name": "stdout",
          "text": [
            "You are authorizing client libraries without access to a web browser. Please run the following command on a machine with a web browser and copy its output back here. Make sure the installed gcloud version is 372.0.0 or newer.\n",
            "\n",
            "gcloud auth application-default login --remote-bootstrap=\"https://accounts.google.com/o/oauth2/auth?response_type=code&client_id=223548278120-kfaa31ofsakrcl4ev8b51up4pfjd83mq.apps.googleusercontent.com&scope=https%3A%2F%2Fwww.googleapis.com%2Fauth%2Fcloud-platform+https%3A%2F%2Fwww.googleapis.com%2Fauth%2Fgenerative-language.tuning&state=ainS8h9vR3DqiyWrTrA9Eqxu8shYm4&access_type=offline&code_challenge=e1J5QzDBKe7aK5siDoI3zTjIaz41msi8qaM4LcdBCwM&code_challenge_method=S256&token_usage=remote\"\n",
            "\n",
            "\n",
            "Enter the output of the above command: https://localhost:8085/?state=ainS8h9vR3DqiyWrTrA9Eqxu8shYm4&code=4/0AQlEd8w3E2HOrIznxpEOpdxDIdOGM6TjxWH9GLte5DQskWKYXJzNODEfaogZO78W63lqug&scope=https://www.googleapis.com/auth/cloud-platform%20https://www.googleapis.com/auth/generative-language.tuning\n",
            "\n",
            "Credentials saved to file: [/content/.config/application_default_credentials.json]\n",
            "\n",
            "These credentials will be used by any library that requests Application Default Credentials (ADC).\n"
          ]
        }
      ],
      "source": [
        "import os\n",
        "if 'COLAB_RELEASE_TAG' in os.environ:\n",
        "\n",
        "  # Use `--no-browser` in colab\n",
        "  !gcloud auth application-default login --no-browser --client-id-file client_secret.json --scopes='https://www.googleapis.com/auth/cloud-platform,https://www.googleapis.com/auth/generative-language.tuning'\n",
        "else:\n",
        "  !gcloud auth application-default login --client-id-file client_secret.json --scopes='https://www.googleapis.com/auth/cloud-platform,https://www.googleapis.com/auth/generative-language.tuning'"
      ]
    },
    {
      "cell_type": "markdown",
      "metadata": {
        "id": "aHimx8NGMWDj"
      },
      "source": [
        "### Install the client library"
      ]
    },
    {
      "cell_type": "code",
      "execution_count": null,
      "metadata": {
        "id": "cbcf72bcb56d",
        "colab": {
          "base_uri": "https://localhost:8080/"
        },
        "outputId": "afaaa9f9-1b5e-4d2b-8b7e-5230568cce0c"
      },
      "outputs": [
        {
          "output_type": "stream",
          "name": "stdout",
          "text": [
            "\u001b[?25l     \u001b[90m━━━━━━━━━━━━━━━━━━━━━━━━━━━━━━━━━━━━━━━━\u001b[0m \u001b[32m0.0/164.2 kB\u001b[0m \u001b[31m?\u001b[0m eta \u001b[36m-:--:--\u001b[0m\r\u001b[2K     \u001b[91m━━━━━━━━━━━━━━━━━━━━━━━━━━━━━━━━━━━━━━━\u001b[0m\u001b[91m╸\u001b[0m \u001b[32m163.8/164.2 kB\u001b[0m \u001b[31m5.7 MB/s\u001b[0m eta \u001b[36m0:00:01\u001b[0m\r\u001b[2K     \u001b[90m━━━━━━━━━━━━━━━━━━━━━━━━━━━━━━━━━━━━━━━━\u001b[0m \u001b[32m164.2/164.2 kB\u001b[0m \u001b[31m4.3 MB/s\u001b[0m eta \u001b[36m0:00:00\u001b[0m\n",
            "\u001b[?25h\u001b[?25l     \u001b[90m━━━━━━━━━━━━━━━━━━━━━━━━━━━━━━━━━━━━━━━━\u001b[0m \u001b[32m0.0/718.3 kB\u001b[0m \u001b[31m?\u001b[0m eta \u001b[36m-:--:--\u001b[0m\r\u001b[2K     \u001b[90m━━━━━━━━━━━━━━━━━━━━━━━━━━━━━━━━━━━━━━━━\u001b[0m \u001b[32m718.3/718.3 kB\u001b[0m \u001b[31m45.3 MB/s\u001b[0m eta \u001b[36m0:00:00\u001b[0m\n",
            "\u001b[?25h"
          ]
        }
      ],
      "source": [
        "!pip install -q -U google-generativeai"
      ]
    },
    {
      "cell_type": "markdown",
      "metadata": {
        "id": "jdIYSl2kN0cq"
      },
      "source": [
        "### Import libraries"
      ]
    },
    {
      "cell_type": "code",
      "source": [
        "import google.generativeai as genai\n",
        "\n",
        "print('Available base models:', [m.name for m in genai.list_models()])"
      ],
      "metadata": {
        "colab": {
          "base_uri": "https://localhost:8080/"
        },
        "id": "J1l_uR-v57VQ",
        "outputId": "79a584de-fdde-4bd1-fe6a-0013d0fd1b85"
      },
      "execution_count": null,
      "outputs": [
        {
          "output_type": "stream",
          "name": "stdout",
          "text": [
            "Available base models: ['models/chat-bison-001', 'models/text-bison-001', 'models/embedding-gecko-001', 'models/gemini-1.0-pro', 'models/gemini-1.0-pro-001', 'models/gemini-1.0-pro-latest', 'models/gemini-1.0-pro-vision-latest', 'models/gemini-1.5-flash', 'models/gemini-1.5-flash-001', 'models/gemini-1.5-flash-latest', 'models/gemini-1.5-pro', 'models/gemini-1.5-pro-001', 'models/gemini-1.5-pro-latest', 'models/gemini-pro', 'models/gemini-pro-vision', 'models/embedding-001', 'models/text-embedding-004', 'models/aqa']\n"
          ]
        }
      ]
    },
    {
      "cell_type": "code",
      "execution_count": null,
      "metadata": {
        "id": "8enrppafJPCX",
        "colab": {
          "base_uri": "https://localhost:8080/",
          "height": 34
        },
        "outputId": "19c293aa-b2d4-4cb1-9e03-8a1e4399f79c"
      },
      "outputs": [
        {
          "output_type": "stream",
          "name": "stdout",
          "text": [
            "My tuned models: ['tunedModels/generatenum2540', 'tunedModels/generatenum6950', 'tunedModels/generatenum5339', 'tunedModels/generatenum6484']\n"
          ]
        }
      ],
      "source": [
        "#import google.generativeai as genai\n",
        "\n",
        "#genai.configure()\n",
        "#print('My tuned models:', [m.name for m in genai.list_tuned_models()])"
      ]
    },
    {
      "cell_type": "code",
      "source": [
        "!gcloud --version"
      ],
      "metadata": {
        "colab": {
          "base_uri": "https://localhost:8080/"
        },
        "id": "zD-ZZsF_Bpge",
        "outputId": "0338978f-e5ed-4809-a30a-a37d8c7009ed"
      },
      "execution_count": null,
      "outputs": [
        {
          "output_type": "stream",
          "name": "stdout",
          "text": [
            "Google Cloud SDK 483.0.0\n"
          ]
        }
      ]
    },
    {
      "cell_type": "markdown",
      "metadata": {
        "id": "P-MYZECwlRCq"
      },
      "source": [
        "You can check you existing tuned models with the `genai.list_tuned_model` method."
      ]
    },
    {
      "cell_type": "code",
      "source": [
        "print('My tuned models:', [m.name for m in genai.list_tuned_models()])"
      ],
      "metadata": {
        "colab": {
          "base_uri": "https://localhost:8080/"
        },
        "id": "oPPa8Pso6-lW",
        "outputId": "f40ce4dc-d174-47e6-df43-3af2389e3748"
      },
      "execution_count": null,
      "outputs": [
        {
          "output_type": "stream",
          "name": "stdout",
          "text": [
            "My tuned models: ['tunedModels/generatenum2540', 'tunedModels/generatenum6950', 'tunedModels/generatenum5339']\n"
          ]
        }
      ]
    },
    {
      "cell_type": "markdown",
      "metadata": {
        "id": "BhkXRzciv3Dp"
      },
      "source": [
        "## Create tuned model"
      ]
    },
    {
      "cell_type": "markdown",
      "metadata": {
        "id": "OO8VZYAinLWc"
      },
      "source": [
        "To create a tuned model, you need to pass your dataset to the model in the `genai.create_tuned_model` method. You can do this be directly defining the input and output values in the call or importing from a file into a dataframe to pass to the method.\n",
        "\n",
        "For this example, you will tune a model to generate the next number in the sequence. For example, if the input is `1`, the model should output `2`. If the input is `one hundred`, the output should be `one hundred one`."
      ]
    },
    {
      "cell_type": "code",
      "execution_count": null,
      "metadata": {
        "id": "w-EBSe9wTbLB",
        "outputId": "d8f89c7c-daa7-454a-fbb3-1339ee0be0fa",
        "colab": {
          "base_uri": "https://localhost:8080/",
          "height": 243
        }
      },
      "outputs": [
        {
          "output_type": "execute_result",
          "data": {
            "text/plain": [
              "Model(name='models/gemini-1.0-pro-001',\n",
              "      base_model_id='',\n",
              "      version='001',\n",
              "      display_name='Gemini 1.0 Pro 001 (Tuning)',\n",
              "      description=('The best model for scaling across a wide range of tasks. This is a stable '\n",
              "                   'model that supports tuning.'),\n",
              "      input_token_limit=30720,\n",
              "      output_token_limit=2048,\n",
              "      supported_generation_methods=['generateContent', 'countTokens', 'createTunedModel'],\n",
              "      temperature=0.9,\n",
              "      max_temperature=None,\n",
              "      top_p=1.0,\n",
              "      top_k=None)"
            ]
          },
          "metadata": {},
          "execution_count": 6
        }
      ],
      "source": [
        "base_model = [\n",
        "    m for m in genai.list_models()\n",
        "    if \"createTunedModel\" in m.supported_generation_methods][0]\n",
        "base_model"
      ]
    },
    {
      "cell_type": "code",
      "source": [
        "base_model.name"
      ],
      "metadata": {
        "colab": {
          "base_uri": "https://localhost:8080/",
          "height": 35
        },
        "id": "nFDFz3vDR0fX",
        "outputId": "64f70400-8fae-4263-cf1d-a992fcaf16c1"
      },
      "execution_count": null,
      "outputs": [
        {
          "output_type": "execute_result",
          "data": {
            "text/plain": [
              "'models/gemini-1.0-pro-001'"
            ],
            "application/vnd.google.colaboratory.intrinsic+json": {
              "type": "string"
            }
          },
          "metadata": {},
          "execution_count": 8
        }
      ]
    },
    {
      "cell_type": "code",
      "source": [
        "base_model.output_token_limit"
      ],
      "metadata": {
        "colab": {
          "base_uri": "https://localhost:8080/"
        },
        "id": "0pZ0iSiUQBtA",
        "outputId": "46003131-057c-4bbf-9813-55992181c554"
      },
      "execution_count": null,
      "outputs": [
        {
          "output_type": "execute_result",
          "data": {
            "text/plain": [
              "2048"
            ]
          },
          "metadata": {},
          "execution_count": 9
        }
      ]
    },
    {
      "cell_type": "code",
      "source": [
        "prompt= [\"After spending several months studying abroad in Spain, John Wick and Johnson returned home with a newfound appreciation for the Spanish language and culture.\",\n",
        "         \"Despite the fact that I had saved up 100.000 USD, I still found it difficult to afford a house in the city.\",\n",
        "         \"When I was a child, my grandparents would take me on long walks through the countryside, and those memories are still some of my most cherished.\",\n",
        "         \"After years of working in the corporate world, I decided to start my own business, and I've never looked back.\",\n",
        "         \"The ancient ruins we visited in Rome were so awe-inspiring that I found myself speechless.\",\n",
        "         \"Despite the fact that I had been practicing for months, my piano recital was a disaster, and I was humiliated.\",\n",
        "         \"When she traveled to Thailand, Mary was amazed by the beauty and serenity of the Buddhist temples.\",\n",
        "         \"My grandmother's estate, which had been passed down through several generations of our family, was the site of many cherished family gatherings.\",\n",
        "         \"When I was a student, I spent a semester studying abroad in France, and it was one of the most enriching experiences of my life.\",\n",
        "         \"After my grandfather passed away, my family and I spent weeks going through his belongings and reminiscing about his life.\",\n",
        "         \"The White House is located in Washington, D.C.\",\n",
        "         \"I need to exchange dollars for euros before I travel to Europe.\",\n",
        "         \"The exchange rate between the pound and the euro is favorable.\",\n",
        "         \"As a child, I used to spend my summers at my grandparents' farm, and those days are some of my most cherished memories.\",\n",
        "         \"After years of working for a multinational corporation, I decided to quit my job and travel the World.\",\n",
        "         \"My great-grandfather fought in World War II, and his stories about the war have been passed down through the generations of our family.\",\n",
        "         \"When I was in college, I spent a semester studying abroad in China, and it was an eye-opening experience.\",\n",
        "         \"My best friend and I have been planning a trip to South America for years, and we're finally going to make it happen this summer.\",\n",
        "         \"My parents own a small motel in a charming seaside town, and they've been running it for over 20 years.\",\n",
        "         \"Johnson and I decided to take a road trip across the United States during the summer after we graduated from college.\"]"
      ],
      "metadata": {
        "id": "Wn2Px7_a_b10"
      },
      "execution_count": null,
      "outputs": []
    },
    {
      "cell_type": "code",
      "source": [
        "target= [{\"Person\": [\"John Wick\", \"Johnson\"], \"Time\": \"several months\", \"Currency\": \"null\", \"Place\": \"Spain\"},\n",
        "         {\"Person\": \"null\", \"Time\": \"null\", \"Currency\": \"USD\", \"Place\": \"null\"},\n",
        "         {\"Person\": \"null\", \"Time\": \"null\", \"Currency\": \"null\", \"Place\": \"null\"},\n",
        "         {\"Person\": \"null\", \"Time\": \"years\", \"Currency\": \"null\", \"Place\": \"null\"},\n",
        "         {\"Person\": \"null\", \"Time\": \"null\", \"Currency\": \"null\", \"Place\": \"Rome\"},\n",
        "         {\"Person\": \"null\", \"Time\": \"months\", \"Currency\": \"null\", \"Place\": \"null\"},\n",
        "         {\"Person\": \"Mary\", \"Time\": \"null\", \"Currency\": \"null\", \"Place\": \"Thailand\"},\n",
        "         {\"Person\": \"null\", \"Time\": \"null\", \"Currency\": \"null\", \"Place\": \"null\"},\n",
        "         {\"Person\": \"null\", \"Time\": \"semester\", \"Currency\": \"null\", \"Place\": \"France\"},\n",
        "         {\"Person\": \"null\", \"Time\": \"weeks\", \"Currency\": \"null\", \"Place\": \"null\"},\n",
        "         {\"Person\": \"null\", \"Time\": \"null\", \"Currency\": \"null\", \"Place\": \"Washington, D.C.\"},\n",
        "         {\"Person\": \"null\", \"Time\": \"null\", \"Currency\": [\"dollars\", \"euros\"], \"Place\": \"Europe\"},\n",
        "         {\"Person\": \"null\", \"Time\": \"null\", \"Currency\": [\"pound\", \"euro\"], \"Place\": \"null\"},\n",
        "         {\"Person\": \"null\", \"Time\": [\"summers\", \"those days\"], \"Currency\": \"null\", \"Place\": \"null\"},\n",
        "         {\"Person\": \"null\", \"Time\": \"years\", \"Currency\": \"null\", \"Place\": \"World\"},\n",
        "         {\"Person\": \"null\", \"Time\": \"null\", \"Currency\": \"null\", \"Place\": \"null\"},\n",
        "         {\"Person\": \"null\", \"Time\": \"semester\", \"Currency\": \"null\", \"Place\": \"China\"},\n",
        "         {\"Person\": \"null\", \"Time\": [\"years\", \"summer\"], \"Currency\": \"null\", \"Place\": \"South America\"},\n",
        "         {\"Person\": \"null\", \"Time\": \"over 20 years\", \"Currency\": \"null\", \"Place\": \"null\"},\n",
        "         {\"Person\": \"Johnson\", \"Time\": \"summer\", \"Currency\": \"null\", \"Place\": \"United States\"}]"
      ],
      "metadata": {
        "id": "23JH2WAh_ikz"
      },
      "execution_count": null,
      "outputs": []
    },
    {
      "cell_type": "code",
      "source": [
        "#system=\"\"\"Extract {labels} from {text} and return them in dict type.\n",
        "#labels: 'Person (name, surname)', 'Time (this week, last month, summer, next month etc.)', 'Currency (USD, EURO, etc.)', 'Place (country, city, etc.)'.\n",
        "#text: \"\"\" # text="
      ],
      "metadata": {
        "id": "_YcbHZBjTR2i"
      },
      "execution_count": null,
      "outputs": []
    },
    {
      "cell_type": "code",
      "source": [
        "#system=\"\"\"Extract the labels delimited by angle brackets from text delimited by angle brackets and return them in dict type.\n",
        "#labels: <'Person (name, surname)', 'Time (this week, last month, summer, next month etc.)', 'Currency (USD, EURO, etc.)', 'Place (country, city, etc.)'.>\n",
        "#text: \"\"\""
      ],
      "metadata": {
        "id": "ApPWCcz2lP-k"
      },
      "execution_count": null,
      "outputs": []
    },
    {
      "cell_type": "code",
      "source": [
        "system=\"\"\"Extract the labels delimited by XML tags from text delimited by XML tags and return them in dict type.\n",
        "<labels>'Person': <person names and surnames>, 'Time': <word or words indicating time \\\n",
        "like this week, last month, summer, next month etc.>', 'Currency':<all currencies like USD, EURO, etc.>, \\\n",
        "'Place':<settlement like country, city, district etc.> </labels>\n",
        "<text>\"\"\"\n",
        "\n",
        "# commonly used delimiters:\n",
        "# triple quotes: \"\"\"\n",
        "# triple backticks: '''\n",
        "# riple dashes: ___\n",
        "# angle brackets : <>\n",
        "# curly brackets: {}\n",
        "# XML tags: <tag> </tag> ---> <text>This is sentence</text>"
      ],
      "metadata": {
        "id": "H1fTACFUomvL"
      },
      "execution_count": null,
      "outputs": []
    },
    {
      "cell_type": "code",
      "source": [
        "def prompt_new(prompt):\n",
        "  new_prompt=[system + i +'</text>' for i in prompt]\n",
        "  return new_prompt"
      ],
      "metadata": {
        "id": "7YhbM0aLTc0K"
      },
      "execution_count": null,
      "outputs": []
    },
    {
      "cell_type": "code",
      "source": [
        "new_prompt=prompt_new(prompt)"
      ],
      "metadata": {
        "id": "0xdUm6nZhh8-"
      },
      "execution_count": null,
      "outputs": []
    },
    {
      "cell_type": "code",
      "source": [
        "new_prompt[0]"
      ],
      "metadata": {
        "colab": {
          "base_uri": "https://localhost:8080/",
          "height": 87
        },
        "id": "PnOyu0YP9F2b",
        "outputId": "273afca9-3814-4c97-835d-dcf7e4bedb55"
      },
      "execution_count": null,
      "outputs": [
        {
          "output_type": "execute_result",
          "data": {
            "text/plain": [
              "\"Extract the labels delimited by XML tags from text delimited by XML tags and return them in dict type.\\n<labels>'Person': <person names and surnames>, 'Time': <word or words indicating time like this week, last month, summer, next month etc.>', 'Currency':<all currencies like USD, EURO, etc.>, 'Place':<settlement like country, city, district etc.> </labels>\\n<text>After spending several months studying abroad in Spain, John Wick and Johnson returned home with a newfound appreciation for the Spanish language and culture.</text>\""
            ],
            "application/vnd.google.colaboratory.intrinsic+json": {
              "type": "string"
            }
          },
          "metadata": {},
          "execution_count": 19
        }
      ]
    },
    {
      "cell_type": "code",
      "source": [
        "import pandas as pd\n",
        "my_dict={\"text_input\":new_prompt, \"output\":target}\n",
        "df=pd.DataFrame(my_dict)\n",
        "df"
      ],
      "metadata": {
        "colab": {
          "base_uri": "https://localhost:8080/",
          "height": 676
        },
        "id": "GDDNOWr7_mTd",
        "outputId": "0c7fb870-f666-4845-c414-4bc5e56cf578"
      },
      "execution_count": null,
      "outputs": [
        {
          "output_type": "execute_result",
          "data": {
            "text/plain": [
              "                                           text_input  \\\n",
              "0   Extract the labels delimited by XML tags from ...   \n",
              "1   Extract the labels delimited by XML tags from ...   \n",
              "2   Extract the labels delimited by XML tags from ...   \n",
              "3   Extract the labels delimited by XML tags from ...   \n",
              "4   Extract the labels delimited by XML tags from ...   \n",
              "5   Extract the labels delimited by XML tags from ...   \n",
              "6   Extract the labels delimited by XML tags from ...   \n",
              "7   Extract the labels delimited by XML tags from ...   \n",
              "8   Extract the labels delimited by XML tags from ...   \n",
              "9   Extract the labels delimited by XML tags from ...   \n",
              "10  Extract the labels delimited by XML tags from ...   \n",
              "11  Extract the labels delimited by XML tags from ...   \n",
              "12  Extract the labels delimited by XML tags from ...   \n",
              "13  Extract the labels delimited by XML tags from ...   \n",
              "14  Extract the labels delimited by XML tags from ...   \n",
              "15  Extract the labels delimited by XML tags from ...   \n",
              "16  Extract the labels delimited by XML tags from ...   \n",
              "17  Extract the labels delimited by XML tags from ...   \n",
              "18  Extract the labels delimited by XML tags from ...   \n",
              "19  Extract the labels delimited by XML tags from ...   \n",
              "\n",
              "                                               output  \n",
              "0   {'Person': ['John Wick', 'Johnson'], 'Time': '...  \n",
              "1   {'Person': 'null', 'Time': 'null', 'Currency':...  \n",
              "2   {'Person': 'null', 'Time': 'null', 'Currency':...  \n",
              "3   {'Person': 'null', 'Time': 'years', 'Currency'...  \n",
              "4   {'Person': 'null', 'Time': 'null', 'Currency':...  \n",
              "5   {'Person': 'null', 'Time': 'months', 'Currency...  \n",
              "6   {'Person': 'Mary', 'Time': 'null', 'Currency':...  \n",
              "7   {'Person': 'null', 'Time': 'null', 'Currency':...  \n",
              "8   {'Person': 'null', 'Time': 'semester', 'Curren...  \n",
              "9   {'Person': 'null', 'Time': 'weeks', 'Currency'...  \n",
              "10  {'Person': 'null', 'Time': 'null', 'Currency':...  \n",
              "11  {'Person': 'null', 'Time': 'null', 'Currency':...  \n",
              "12  {'Person': 'null', 'Time': 'null', 'Currency':...  \n",
              "13  {'Person': 'null', 'Time': ['summers', 'those ...  \n",
              "14  {'Person': 'null', 'Time': 'years', 'Currency'...  \n",
              "15  {'Person': 'null', 'Time': 'null', 'Currency':...  \n",
              "16  {'Person': 'null', 'Time': 'semester', 'Curren...  \n",
              "17  {'Person': 'null', 'Time': ['years', 'summer']...  \n",
              "18  {'Person': 'null', 'Time': 'over 20 years', 'C...  \n",
              "19  {'Person': 'Johnson', 'Time': 'summer', 'Curre...  "
            ],
            "text/html": [
              "\n",
              "  <div id=\"df-a8dd150d-3173-45d4-b7d2-563c7c94780d\" class=\"colab-df-container\">\n",
              "    <div>\n",
              "<style scoped>\n",
              "    .dataframe tbody tr th:only-of-type {\n",
              "        vertical-align: middle;\n",
              "    }\n",
              "\n",
              "    .dataframe tbody tr th {\n",
              "        vertical-align: top;\n",
              "    }\n",
              "\n",
              "    .dataframe thead th {\n",
              "        text-align: right;\n",
              "    }\n",
              "</style>\n",
              "<table border=\"1\" class=\"dataframe\">\n",
              "  <thead>\n",
              "    <tr style=\"text-align: right;\">\n",
              "      <th></th>\n",
              "      <th>text_input</th>\n",
              "      <th>output</th>\n",
              "    </tr>\n",
              "  </thead>\n",
              "  <tbody>\n",
              "    <tr>\n",
              "      <th>0</th>\n",
              "      <td>Extract the labels delimited by XML tags from ...</td>\n",
              "      <td>{'Person': ['John Wick', 'Johnson'], 'Time': '...</td>\n",
              "    </tr>\n",
              "    <tr>\n",
              "      <th>1</th>\n",
              "      <td>Extract the labels delimited by XML tags from ...</td>\n",
              "      <td>{'Person': 'null', 'Time': 'null', 'Currency':...</td>\n",
              "    </tr>\n",
              "    <tr>\n",
              "      <th>2</th>\n",
              "      <td>Extract the labels delimited by XML tags from ...</td>\n",
              "      <td>{'Person': 'null', 'Time': 'null', 'Currency':...</td>\n",
              "    </tr>\n",
              "    <tr>\n",
              "      <th>3</th>\n",
              "      <td>Extract the labels delimited by XML tags from ...</td>\n",
              "      <td>{'Person': 'null', 'Time': 'years', 'Currency'...</td>\n",
              "    </tr>\n",
              "    <tr>\n",
              "      <th>4</th>\n",
              "      <td>Extract the labels delimited by XML tags from ...</td>\n",
              "      <td>{'Person': 'null', 'Time': 'null', 'Currency':...</td>\n",
              "    </tr>\n",
              "    <tr>\n",
              "      <th>5</th>\n",
              "      <td>Extract the labels delimited by XML tags from ...</td>\n",
              "      <td>{'Person': 'null', 'Time': 'months', 'Currency...</td>\n",
              "    </tr>\n",
              "    <tr>\n",
              "      <th>6</th>\n",
              "      <td>Extract the labels delimited by XML tags from ...</td>\n",
              "      <td>{'Person': 'Mary', 'Time': 'null', 'Currency':...</td>\n",
              "    </tr>\n",
              "    <tr>\n",
              "      <th>7</th>\n",
              "      <td>Extract the labels delimited by XML tags from ...</td>\n",
              "      <td>{'Person': 'null', 'Time': 'null', 'Currency':...</td>\n",
              "    </tr>\n",
              "    <tr>\n",
              "      <th>8</th>\n",
              "      <td>Extract the labels delimited by XML tags from ...</td>\n",
              "      <td>{'Person': 'null', 'Time': 'semester', 'Curren...</td>\n",
              "    </tr>\n",
              "    <tr>\n",
              "      <th>9</th>\n",
              "      <td>Extract the labels delimited by XML tags from ...</td>\n",
              "      <td>{'Person': 'null', 'Time': 'weeks', 'Currency'...</td>\n",
              "    </tr>\n",
              "    <tr>\n",
              "      <th>10</th>\n",
              "      <td>Extract the labels delimited by XML tags from ...</td>\n",
              "      <td>{'Person': 'null', 'Time': 'null', 'Currency':...</td>\n",
              "    </tr>\n",
              "    <tr>\n",
              "      <th>11</th>\n",
              "      <td>Extract the labels delimited by XML tags from ...</td>\n",
              "      <td>{'Person': 'null', 'Time': 'null', 'Currency':...</td>\n",
              "    </tr>\n",
              "    <tr>\n",
              "      <th>12</th>\n",
              "      <td>Extract the labels delimited by XML tags from ...</td>\n",
              "      <td>{'Person': 'null', 'Time': 'null', 'Currency':...</td>\n",
              "    </tr>\n",
              "    <tr>\n",
              "      <th>13</th>\n",
              "      <td>Extract the labels delimited by XML tags from ...</td>\n",
              "      <td>{'Person': 'null', 'Time': ['summers', 'those ...</td>\n",
              "    </tr>\n",
              "    <tr>\n",
              "      <th>14</th>\n",
              "      <td>Extract the labels delimited by XML tags from ...</td>\n",
              "      <td>{'Person': 'null', 'Time': 'years', 'Currency'...</td>\n",
              "    </tr>\n",
              "    <tr>\n",
              "      <th>15</th>\n",
              "      <td>Extract the labels delimited by XML tags from ...</td>\n",
              "      <td>{'Person': 'null', 'Time': 'null', 'Currency':...</td>\n",
              "    </tr>\n",
              "    <tr>\n",
              "      <th>16</th>\n",
              "      <td>Extract the labels delimited by XML tags from ...</td>\n",
              "      <td>{'Person': 'null', 'Time': 'semester', 'Curren...</td>\n",
              "    </tr>\n",
              "    <tr>\n",
              "      <th>17</th>\n",
              "      <td>Extract the labels delimited by XML tags from ...</td>\n",
              "      <td>{'Person': 'null', 'Time': ['years', 'summer']...</td>\n",
              "    </tr>\n",
              "    <tr>\n",
              "      <th>18</th>\n",
              "      <td>Extract the labels delimited by XML tags from ...</td>\n",
              "      <td>{'Person': 'null', 'Time': 'over 20 years', 'C...</td>\n",
              "    </tr>\n",
              "    <tr>\n",
              "      <th>19</th>\n",
              "      <td>Extract the labels delimited by XML tags from ...</td>\n",
              "      <td>{'Person': 'Johnson', 'Time': 'summer', 'Curre...</td>\n",
              "    </tr>\n",
              "  </tbody>\n",
              "</table>\n",
              "</div>\n",
              "    <div class=\"colab-df-buttons\">\n",
              "\n",
              "  <div class=\"colab-df-container\">\n",
              "    <button class=\"colab-df-convert\" onclick=\"convertToInteractive('df-a8dd150d-3173-45d4-b7d2-563c7c94780d')\"\n",
              "            title=\"Convert this dataframe to an interactive table.\"\n",
              "            style=\"display:none;\">\n",
              "\n",
              "  <svg xmlns=\"http://www.w3.org/2000/svg\" height=\"24px\" viewBox=\"0 -960 960 960\">\n",
              "    <path d=\"M120-120v-720h720v720H120Zm60-500h600v-160H180v160Zm220 220h160v-160H400v160Zm0 220h160v-160H400v160ZM180-400h160v-160H180v160Zm440 0h160v-160H620v160ZM180-180h160v-160H180v160Zm440 0h160v-160H620v160Z\"/>\n",
              "  </svg>\n",
              "    </button>\n",
              "\n",
              "  <style>\n",
              "    .colab-df-container {\n",
              "      display:flex;\n",
              "      gap: 12px;\n",
              "    }\n",
              "\n",
              "    .colab-df-convert {\n",
              "      background-color: #E8F0FE;\n",
              "      border: none;\n",
              "      border-radius: 50%;\n",
              "      cursor: pointer;\n",
              "      display: none;\n",
              "      fill: #1967D2;\n",
              "      height: 32px;\n",
              "      padding: 0 0 0 0;\n",
              "      width: 32px;\n",
              "    }\n",
              "\n",
              "    .colab-df-convert:hover {\n",
              "      background-color: #E2EBFA;\n",
              "      box-shadow: 0px 1px 2px rgba(60, 64, 67, 0.3), 0px 1px 3px 1px rgba(60, 64, 67, 0.15);\n",
              "      fill: #174EA6;\n",
              "    }\n",
              "\n",
              "    .colab-df-buttons div {\n",
              "      margin-bottom: 4px;\n",
              "    }\n",
              "\n",
              "    [theme=dark] .colab-df-convert {\n",
              "      background-color: #3B4455;\n",
              "      fill: #D2E3FC;\n",
              "    }\n",
              "\n",
              "    [theme=dark] .colab-df-convert:hover {\n",
              "      background-color: #434B5C;\n",
              "      box-shadow: 0px 1px 3px 1px rgba(0, 0, 0, 0.15);\n",
              "      filter: drop-shadow(0px 1px 2px rgba(0, 0, 0, 0.3));\n",
              "      fill: #FFFFFF;\n",
              "    }\n",
              "  </style>\n",
              "\n",
              "    <script>\n",
              "      const buttonEl =\n",
              "        document.querySelector('#df-a8dd150d-3173-45d4-b7d2-563c7c94780d button.colab-df-convert');\n",
              "      buttonEl.style.display =\n",
              "        google.colab.kernel.accessAllowed ? 'block' : 'none';\n",
              "\n",
              "      async function convertToInteractive(key) {\n",
              "        const element = document.querySelector('#df-a8dd150d-3173-45d4-b7d2-563c7c94780d');\n",
              "        const dataTable =\n",
              "          await google.colab.kernel.invokeFunction('convertToInteractive',\n",
              "                                                    [key], {});\n",
              "        if (!dataTable) return;\n",
              "\n",
              "        const docLinkHtml = 'Like what you see? Visit the ' +\n",
              "          '<a target=\"_blank\" href=https://colab.research.google.com/notebooks/data_table.ipynb>data table notebook</a>'\n",
              "          + ' to learn more about interactive tables.';\n",
              "        element.innerHTML = '';\n",
              "        dataTable['output_type'] = 'display_data';\n",
              "        await google.colab.output.renderOutput(dataTable, element);\n",
              "        const docLink = document.createElement('div');\n",
              "        docLink.innerHTML = docLinkHtml;\n",
              "        element.appendChild(docLink);\n",
              "      }\n",
              "    </script>\n",
              "  </div>\n",
              "\n",
              "\n",
              "<div id=\"df-737b2232-886f-46f5-9554-2c5da24c206d\">\n",
              "  <button class=\"colab-df-quickchart\" onclick=\"quickchart('df-737b2232-886f-46f5-9554-2c5da24c206d')\"\n",
              "            title=\"Suggest charts\"\n",
              "            style=\"display:none;\">\n",
              "\n",
              "<svg xmlns=\"http://www.w3.org/2000/svg\" height=\"24px\"viewBox=\"0 0 24 24\"\n",
              "     width=\"24px\">\n",
              "    <g>\n",
              "        <path d=\"M19 3H5c-1.1 0-2 .9-2 2v14c0 1.1.9 2 2 2h14c1.1 0 2-.9 2-2V5c0-1.1-.9-2-2-2zM9 17H7v-7h2v7zm4 0h-2V7h2v10zm4 0h-2v-4h2v4z\"/>\n",
              "    </g>\n",
              "</svg>\n",
              "  </button>\n",
              "\n",
              "<style>\n",
              "  .colab-df-quickchart {\n",
              "      --bg-color: #E8F0FE;\n",
              "      --fill-color: #1967D2;\n",
              "      --hover-bg-color: #E2EBFA;\n",
              "      --hover-fill-color: #174EA6;\n",
              "      --disabled-fill-color: #AAA;\n",
              "      --disabled-bg-color: #DDD;\n",
              "  }\n",
              "\n",
              "  [theme=dark] .colab-df-quickchart {\n",
              "      --bg-color: #3B4455;\n",
              "      --fill-color: #D2E3FC;\n",
              "      --hover-bg-color: #434B5C;\n",
              "      --hover-fill-color: #FFFFFF;\n",
              "      --disabled-bg-color: #3B4455;\n",
              "      --disabled-fill-color: #666;\n",
              "  }\n",
              "\n",
              "  .colab-df-quickchart {\n",
              "    background-color: var(--bg-color);\n",
              "    border: none;\n",
              "    border-radius: 50%;\n",
              "    cursor: pointer;\n",
              "    display: none;\n",
              "    fill: var(--fill-color);\n",
              "    height: 32px;\n",
              "    padding: 0;\n",
              "    width: 32px;\n",
              "  }\n",
              "\n",
              "  .colab-df-quickchart:hover {\n",
              "    background-color: var(--hover-bg-color);\n",
              "    box-shadow: 0 1px 2px rgba(60, 64, 67, 0.3), 0 1px 3px 1px rgba(60, 64, 67, 0.15);\n",
              "    fill: var(--button-hover-fill-color);\n",
              "  }\n",
              "\n",
              "  .colab-df-quickchart-complete:disabled,\n",
              "  .colab-df-quickchart-complete:disabled:hover {\n",
              "    background-color: var(--disabled-bg-color);\n",
              "    fill: var(--disabled-fill-color);\n",
              "    box-shadow: none;\n",
              "  }\n",
              "\n",
              "  .colab-df-spinner {\n",
              "    border: 2px solid var(--fill-color);\n",
              "    border-color: transparent;\n",
              "    border-bottom-color: var(--fill-color);\n",
              "    animation:\n",
              "      spin 1s steps(1) infinite;\n",
              "  }\n",
              "\n",
              "  @keyframes spin {\n",
              "    0% {\n",
              "      border-color: transparent;\n",
              "      border-bottom-color: var(--fill-color);\n",
              "      border-left-color: var(--fill-color);\n",
              "    }\n",
              "    20% {\n",
              "      border-color: transparent;\n",
              "      border-left-color: var(--fill-color);\n",
              "      border-top-color: var(--fill-color);\n",
              "    }\n",
              "    30% {\n",
              "      border-color: transparent;\n",
              "      border-left-color: var(--fill-color);\n",
              "      border-top-color: var(--fill-color);\n",
              "      border-right-color: var(--fill-color);\n",
              "    }\n",
              "    40% {\n",
              "      border-color: transparent;\n",
              "      border-right-color: var(--fill-color);\n",
              "      border-top-color: var(--fill-color);\n",
              "    }\n",
              "    60% {\n",
              "      border-color: transparent;\n",
              "      border-right-color: var(--fill-color);\n",
              "    }\n",
              "    80% {\n",
              "      border-color: transparent;\n",
              "      border-right-color: var(--fill-color);\n",
              "      border-bottom-color: var(--fill-color);\n",
              "    }\n",
              "    90% {\n",
              "      border-color: transparent;\n",
              "      border-bottom-color: var(--fill-color);\n",
              "    }\n",
              "  }\n",
              "</style>\n",
              "\n",
              "  <script>\n",
              "    async function quickchart(key) {\n",
              "      const quickchartButtonEl =\n",
              "        document.querySelector('#' + key + ' button');\n",
              "      quickchartButtonEl.disabled = true;  // To prevent multiple clicks.\n",
              "      quickchartButtonEl.classList.add('colab-df-spinner');\n",
              "      try {\n",
              "        const charts = await google.colab.kernel.invokeFunction(\n",
              "            'suggestCharts', [key], {});\n",
              "      } catch (error) {\n",
              "        console.error('Error during call to suggestCharts:', error);\n",
              "      }\n",
              "      quickchartButtonEl.classList.remove('colab-df-spinner');\n",
              "      quickchartButtonEl.classList.add('colab-df-quickchart-complete');\n",
              "    }\n",
              "    (() => {\n",
              "      let quickchartButtonEl =\n",
              "        document.querySelector('#df-737b2232-886f-46f5-9554-2c5da24c206d button');\n",
              "      quickchartButtonEl.style.display =\n",
              "        google.colab.kernel.accessAllowed ? 'block' : 'none';\n",
              "    })();\n",
              "  </script>\n",
              "</div>\n",
              "\n",
              "  <div id=\"id_5b56be2f-c830-461d-b6a3-35d687dbb6a4\">\n",
              "    <style>\n",
              "      .colab-df-generate {\n",
              "        background-color: #E8F0FE;\n",
              "        border: none;\n",
              "        border-radius: 50%;\n",
              "        cursor: pointer;\n",
              "        display: none;\n",
              "        fill: #1967D2;\n",
              "        height: 32px;\n",
              "        padding: 0 0 0 0;\n",
              "        width: 32px;\n",
              "      }\n",
              "\n",
              "      .colab-df-generate:hover {\n",
              "        background-color: #E2EBFA;\n",
              "        box-shadow: 0px 1px 2px rgba(60, 64, 67, 0.3), 0px 1px 3px 1px rgba(60, 64, 67, 0.15);\n",
              "        fill: #174EA6;\n",
              "      }\n",
              "\n",
              "      [theme=dark] .colab-df-generate {\n",
              "        background-color: #3B4455;\n",
              "        fill: #D2E3FC;\n",
              "      }\n",
              "\n",
              "      [theme=dark] .colab-df-generate:hover {\n",
              "        background-color: #434B5C;\n",
              "        box-shadow: 0px 1px 3px 1px rgba(0, 0, 0, 0.15);\n",
              "        filter: drop-shadow(0px 1px 2px rgba(0, 0, 0, 0.3));\n",
              "        fill: #FFFFFF;\n",
              "      }\n",
              "    </style>\n",
              "    <button class=\"colab-df-generate\" onclick=\"generateWithVariable('df')\"\n",
              "            title=\"Generate code using this dataframe.\"\n",
              "            style=\"display:none;\">\n",
              "\n",
              "  <svg xmlns=\"http://www.w3.org/2000/svg\" height=\"24px\"viewBox=\"0 0 24 24\"\n",
              "       width=\"24px\">\n",
              "    <path d=\"M7,19H8.4L18.45,9,17,7.55,7,17.6ZM5,21V16.75L18.45,3.32a2,2,0,0,1,2.83,0l1.4,1.43a1.91,1.91,0,0,1,.58,1.4,1.91,1.91,0,0,1-.58,1.4L9.25,21ZM18.45,9,17,7.55Zm-12,3A5.31,5.31,0,0,0,4.9,8.1,5.31,5.31,0,0,0,1,6.5,5.31,5.31,0,0,0,4.9,4.9,5.31,5.31,0,0,0,6.5,1,5.31,5.31,0,0,0,8.1,4.9,5.31,5.31,0,0,0,12,6.5,5.46,5.46,0,0,0,6.5,12Z\"/>\n",
              "  </svg>\n",
              "    </button>\n",
              "    <script>\n",
              "      (() => {\n",
              "      const buttonEl =\n",
              "        document.querySelector('#id_5b56be2f-c830-461d-b6a3-35d687dbb6a4 button.colab-df-generate');\n",
              "      buttonEl.style.display =\n",
              "        google.colab.kernel.accessAllowed ? 'block' : 'none';\n",
              "\n",
              "      buttonEl.onclick = () => {\n",
              "        google.colab.notebook.generateWithVariable('df');\n",
              "      }\n",
              "      })();\n",
              "    </script>\n",
              "  </div>\n",
              "\n",
              "    </div>\n",
              "  </div>\n"
            ],
            "application/vnd.google.colaboratory.intrinsic+json": {
              "type": "dataframe",
              "variable_name": "df",
              "summary": "{\n  \"name\": \"df\",\n  \"rows\": 20,\n  \"fields\": [\n    {\n      \"column\": \"text_input\",\n      \"properties\": {\n        \"dtype\": \"string\",\n        \"num_unique_values\": 20,\n        \"samples\": [\n          \"Extract the labels delimited by XML tags from text delimited by XML tags and return them in dict type.\\n<labels>'Person': <person names and surnames>, 'Time': <word or words indicating time like this week, last month, summer, next month etc.>', 'Currency':<all currencies like USD, EURO, etc.>, 'Place':<settlement like country, city, district etc.> </labels>\\n<text>After spending several months studying abroad in Spain, John Wick and Johnson returned home with a newfound appreciation for the Spanish language and culture.</text>\",\n          \"Extract the labels delimited by XML tags from text delimited by XML tags and return them in dict type.\\n<labels>'Person': <person names and surnames>, 'Time': <word or words indicating time like this week, last month, summer, next month etc.>', 'Currency':<all currencies like USD, EURO, etc.>, 'Place':<settlement like country, city, district etc.> </labels>\\n<text>My best friend and I have been planning a trip to South America for years, and we're finally going to make it happen this summer.</text>\",\n          \"Extract the labels delimited by XML tags from text delimited by XML tags and return them in dict type.\\n<labels>'Person': <person names and surnames>, 'Time': <word or words indicating time like this week, last month, summer, next month etc.>', 'Currency':<all currencies like USD, EURO, etc.>, 'Place':<settlement like country, city, district etc.> </labels>\\n<text>My great-grandfather fought in World War II, and his stories about the war have been passed down through the generations of our family.</text>\"\n        ],\n        \"semantic_type\": \"\",\n        \"description\": \"\"\n      }\n    },\n    {\n      \"column\": \"output\",\n      \"properties\": {\n        \"dtype\": \"object\",\n        \"semantic_type\": \"\",\n        \"description\": \"\"\n      }\n    }\n  ]\n}"
            }
          },
          "metadata": {},
          "execution_count": 20
        }
      ]
    },
    {
      "cell_type": "code",
      "source": [
        "df.to_csv(\"data.csv\")"
      ],
      "metadata": {
        "id": "15y1sD3OHIk-"
      },
      "execution_count": null,
      "outputs": []
    },
    {
      "cell_type": "code",
      "execution_count": null,
      "metadata": {
        "id": "baHjHh1oTTTC"
      },
      "outputs": [],
      "source": [
        "import random\n",
        "\n",
        "name = f'generatenum{random.randint(0,10000)}'\n",
        "operation = genai.create_tuned_model(\n",
        "    # You can use a tuned model here too. Set `source_model=\"tunedModels/...\"`\n",
        "    source_model=base_model.name,\n",
        "    description='NER_person_time',\n",
        "    display_name=name,\n",
        "    id=name,\n",
        "    training_data=\"/content/data.csv\",\n",
        "    epoch_count=20,\n",
        "    batch_size=4,\n",
        "    learning_rate=0.001,\n",
        "    temperature=0,\n",
        "    top_p=1\n",
        ")"
      ]
    },
    {
      "cell_type": "markdown",
      "metadata": {
        "id": "-As7ayWDK1w8"
      },
      "source": [
        "Your tuned model is immediately added to the list of tuned models, but its status is set to \"creating\" while the model is tuned."
      ]
    },
    {
      "cell_type": "code",
      "source": [
        "name"
      ],
      "metadata": {
        "colab": {
          "base_uri": "https://localhost:8080/",
          "height": 35
        },
        "id": "F_3ALePOex7D",
        "outputId": "abce0547-34c3-4e1c-be20-4252cac0bf88"
      },
      "execution_count": null,
      "outputs": [
        {
          "output_type": "execute_result",
          "data": {
            "text/plain": [
              "'generatenum6484'"
            ],
            "application/vnd.google.colaboratory.intrinsic+json": {
              "type": "string"
            }
          },
          "metadata": {},
          "execution_count": 25
        }
      ]
    },
    {
      "cell_type": "code",
      "source": [
        "models=[m.name for m in genai.list_tuned_models()]\n",
        "models"
      ],
      "metadata": {
        "colab": {
          "base_uri": "https://localhost:8080/"
        },
        "id": "rdmAKSNlWup5",
        "outputId": "1bb79775-b4e3-424c-ba86-6859501a9cf8"
      },
      "execution_count": null,
      "outputs": [
        {
          "output_type": "execute_result",
          "data": {
            "text/plain": [
              "['tunedModels/generatenum2540',\n",
              " 'tunedModels/generatenum6950',\n",
              " 'tunedModels/generatenum5339',\n",
              " 'tunedModels/generatenum6484']"
            ]
          },
          "metadata": {},
          "execution_count": 26
        }
      ]
    },
    {
      "cell_type": "code",
      "source": [
        "models[-1]"
      ],
      "metadata": {
        "colab": {
          "base_uri": "https://localhost:8080/",
          "height": 35
        },
        "id": "8Cs8p5GNfx5f",
        "outputId": "521c4bbc-62a3-4100-a58d-bee09f800de9"
      },
      "execution_count": null,
      "outputs": [
        {
          "output_type": "execute_result",
          "data": {
            "text/plain": [
              "'tunedModels/generatenum6484'"
            ],
            "application/vnd.google.colaboratory.intrinsic+json": {
              "type": "string"
            }
          },
          "metadata": {},
          "execution_count": 27
        }
      ]
    },
    {
      "cell_type": "code",
      "execution_count": null,
      "metadata": {
        "id": "su64KgY4Uztj",
        "outputId": "6f5c802b-c514-4a25-88ae-3496cbe42c6d",
        "colab": {
          "base_uri": "https://localhost:8080/"
        }
      },
      "outputs": [
        {
          "output_type": "execute_result",
          "data": {
            "text/plain": [
              "TunedModel(name='tunedModels/generatenum6484',\n",
              "           source_model='models/gemini-1.0-pro-001',\n",
              "           base_model='models/gemini-1.0-pro-001',\n",
              "           display_name='generatenum6484',\n",
              "           description='NER_person_time',\n",
              "           temperature=0.0,\n",
              "           top_p=1.0,\n",
              "           top_k=1,\n",
              "           state=<State.CREATING: 1>,\n",
              "           create_time=datetime.datetime(2024, 4, 24, 10, 30, 20, 212278, tzinfo=datetime.timezone.utc),\n",
              "           update_time=datetime.datetime(2024, 4, 24, 10, 31, 22, 861136, tzinfo=datetime.timezone.utc),\n",
              "           tuning_task=TuningTask(start_time=datetime.datetime(2024, 4, 24, 10, 30, 20, 558955, tzinfo=datetime.timezone.utc),\n",
              "                                  complete_time=None,\n",
              "                                  snapshots=[...],\n",
              "                                  hyperparameters=Hyperparameters(epoch_count=20,\n",
              "                                                                  batch_size=4,\n",
              "                                                                  learning_rate=0.001)))"
            ]
          },
          "metadata": {},
          "execution_count": 28
        }
      ],
      "source": [
        "model = genai.get_tuned_model(f\"tunedModels/{name}\") #models[-1]\n",
        "\n",
        "model"
      ]
    },
    {
      "cell_type": "code",
      "source": [
        "model.name"
      ],
      "metadata": {
        "colab": {
          "base_uri": "https://localhost:8080/",
          "height": 35
        },
        "id": "rQKx8jNh6Vnl",
        "outputId": "e74cdf44-4b06-45d3-ccb4-6923326ad507"
      },
      "execution_count": null,
      "outputs": [
        {
          "output_type": "execute_result",
          "data": {
            "text/plain": [
              "'tunedModels/generatenum6484'"
            ],
            "application/vnd.google.colaboratory.intrinsic+json": {
              "type": "string"
            }
          },
          "metadata": {},
          "execution_count": 29
        }
      ]
    },
    {
      "cell_type": "code",
      "execution_count": null,
      "metadata": {
        "id": "EUodUwZkKPi-",
        "outputId": "69477f03-4a86-4a36-c73a-3c585f9dc47f",
        "colab": {
          "base_uri": "https://localhost:8080/"
        }
      },
      "outputs": [
        {
          "output_type": "execute_result",
          "data": {
            "text/plain": [
              "<State.CREATING: 1>"
            ]
          },
          "metadata": {},
          "execution_count": 30
        }
      ],
      "source": [
        "model.state"
      ]
    },
    {
      "cell_type": "markdown",
      "metadata": {
        "id": "Pi8X5vkQv-3_"
      },
      "source": [
        "### Check tuning progress"
      ]
    },
    {
      "cell_type": "markdown",
      "metadata": {
        "id": "tWI-vAh4LJIz"
      },
      "source": [
        "Use `metadata` to check the state:"
      ]
    },
    {
      "cell_type": "code",
      "execution_count": null,
      "metadata": {
        "id": "g08vqtxYLMxT",
        "outputId": "f517836c-f7a5-4711-cdcc-647d7153c581",
        "colab": {
          "base_uri": "https://localhost:8080/"
        }
      },
      "outputs": [
        {
          "output_type": "execute_result",
          "data": {
            "text/plain": [
              "total_steps: 100\n",
              "tuned_model: \"tunedModels/generatenum6484\""
            ]
          },
          "metadata": {},
          "execution_count": 32
        }
      ],
      "source": [
        "operation.metadata"
      ]
    },
    {
      "cell_type": "markdown",
      "metadata": {
        "id": "3lQ6gSMgK-kz"
      },
      "source": [
        "Wait for the training to finish using `operation.result()`, or `operation.wait_bar()`"
      ]
    },
    {
      "cell_type": "code",
      "execution_count": null,
      "metadata": {
        "id": "SOUowIv1HgSE",
        "outputId": "75a3c46d-7924-47aa-9efc-a39f2d6dcf4f",
        "colab": {
          "referenced_widgets": [
            "1f02ae401e2c4b9681611aa5e075b89e",
            "a9a08663a210437fb0aed41ce33e2ac7",
            "246c8213968d4df6981c0f9cfdda11ec",
            "5e7e35482f504bfcbcf1dc48446c42f8",
            "535630ead873402db5cd7269c03a407d",
            "60bd601831fa457b90a6aabcdc746039",
            "59e21bce4fcd4f2e893055456495e00a",
            "77bafaf5d52e4e98bc02f6e6245f10a0",
            "cbae7249a5c54592a2def561f5fc0a1a",
            "54579622c08246a2966bbde6fa52217d",
            "6f1f4e5f132c48ab9617fdeceec83741"
          ],
          "base_uri": "https://localhost:8080/",
          "height": 49
        }
      },
      "outputs": [
        {
          "output_type": "display_data",
          "data": {
            "text/plain": [
              "  0%|          | 0/100 [00:00<?, ?it/s]"
            ],
            "application/vnd.jupyter.widget-view+json": {
              "version_major": 2,
              "version_minor": 0,
              "model_id": "1f02ae401e2c4b9681611aa5e075b89e"
            }
          },
          "metadata": {}
        }
      ],
      "source": [
        "import time\n",
        "\n",
        "for status in operation.wait_bar():\n",
        "  time.sleep(30)"
      ]
    },
    {
      "cell_type": "code",
      "source": [
        "operation.result()"
      ],
      "metadata": {
        "colab": {
          "base_uri": "https://localhost:8080/"
        },
        "id": "G8lYiyvOKrVP",
        "outputId": "61eff30a-3880-4b08-a195-805313512993"
      },
      "execution_count": null,
      "outputs": [
        {
          "output_type": "execute_result",
          "data": {
            "text/plain": [
              "TunedModel(name='tunedModels/generatenum6484',\n",
              "           source_model='models/gemini-1.0-pro-001',\n",
              "           base_model='models/gemini-1.0-pro-001',\n",
              "           display_name='generatenum6484',\n",
              "           description='NER_person_time',\n",
              "           temperature=0.0,\n",
              "           top_p=1.0,\n",
              "           top_k=1,\n",
              "           state=<State.ACTIVE: 2>,\n",
              "           create_time=datetime.datetime(2024, 4, 24, 10, 30, 20, 212278, tzinfo=datetime.timezone.utc),\n",
              "           update_time=datetime.datetime(2024, 4, 24, 10, 32, 13, 604221, tzinfo=datetime.timezone.utc),\n",
              "           tuning_task=TuningTask(start_time=datetime.datetime(2024, 4, 24, 10, 30, 20, 558955, tzinfo=datetime.timezone.utc),\n",
              "                                  complete_time=datetime.datetime(2024, 4, 24, 10, 32, 13, 604221, tzinfo=datetime.timezone.utc),\n",
              "                                  snapshots=[...],\n",
              "                                  hyperparameters=Hyperparameters(epoch_count=20,\n",
              "                                                                  batch_size=4,\n",
              "                                                                  learning_rate=0.001)))"
            ]
          },
          "metadata": {},
          "execution_count": 34
        }
      ]
    },
    {
      "cell_type": "markdown",
      "metadata": {
        "id": "4cg868HzqOx5"
      },
      "source": [
        "You can cancel your tuning job any time using the `cancel()` method. Uncomment the line below and run the code cell to cancel your job before it finishes."
      ]
    },
    {
      "cell_type": "code",
      "execution_count": null,
      "metadata": {
        "id": "oQuJ70_hqJi9"
      },
      "outputs": [],
      "source": [
        "#operation.cancel()"
      ]
    },
    {
      "cell_type": "markdown",
      "metadata": {
        "id": "lqiL0TWDqAPn"
      },
      "source": [
        "Once the tuning is complete, you can view the loss curve from the tuning results. The [loss curve](https://generativeai.devsite.corp.google.com/guide/model_tuning_guidance#recommended_configurations) shows how much the model's predictions deviate from the ideal outputs."
      ]
    },
    {
      "cell_type": "code",
      "execution_count": null,
      "metadata": {
        "id": "bIiG57xWLhP7",
        "outputId": "9705a687-af73-4148-98f0-234e37172a4d",
        "colab": {
          "base_uri": "https://localhost:8080/",
          "height": 449
        }
      },
      "outputs": [
        {
          "output_type": "display_data",
          "data": {
            "text/plain": [
              "<Figure size 640x480 with 1 Axes>"
            ],
            "image/png": "[encoded data removed]"
          },
          "metadata": {}
        }
      ],
      "source": [
        "import pandas as pd\n",
        "import seaborn as sns\n",
        "\n",
        "model = operation.result()\n",
        "\n",
        "snapshots = pd.DataFrame(model.tuning_task.snapshots)\n",
        "\n",
        "sns.lineplot(data=snapshots, x = 'epoch', y='mean_loss');\n"
      ]
    },
    {
      "cell_type": "code",
      "source": [
        "pd.DataFrame(model.tuning_task.snapshots)"
      ],
      "metadata": {
        "colab": {
          "base_uri": "https://localhost:8080/",
          "height": 1000
        },
        "id": "TLdX8igy9QbT",
        "outputId": "eaf49fc8-08d2-491d-9f99-5c89c02df6cb"
      },
      "execution_count": null,
      "outputs": [
        {
          "output_type": "execute_result",
          "data": {
            "text/plain": [
              "    step  mean_loss  epoch                     compute_time\n",
              "0      1  26.829763      0 2024-04-24 10:30:23.414356+00:00\n",
              "1      2  22.083675      0 2024-04-24 10:30:24.345695+00:00\n",
              "2      3  16.240812      0 2024-04-24 10:30:25.112362+00:00\n",
              "3      4  10.651561      0 2024-04-24 10:30:26.158208+00:00\n",
              "4      5   6.792531      1 2024-04-24 10:30:27.096258+00:00\n",
              "5      6   4.342026      1 2024-04-24 10:30:28.108549+00:00\n",
              "6      7   3.093372      1 2024-04-24 10:30:29.000822+00:00\n",
              "7      8   3.150377      1 2024-04-24 10:30:29.840362+00:00\n",
              "8      9   1.574233      1 2024-04-24 10:30:31.150727+00:00\n",
              "9     10   2.658485      2 2024-04-24 10:30:31.932893+00:00\n",
              "10    11   0.743004      2 2024-04-24 10:30:32.874645+00:00\n",
              "11    12   0.612307      2 2024-04-24 10:30:34.044444+00:00\n",
              "12    13   0.706018      2 2024-04-24 10:30:35.309220+00:00\n",
              "13    14   0.665194      2 2024-04-24 10:30:36.060325+00:00\n",
              "14    15   0.886586      3 2024-04-24 10:30:37.458530+00:00\n",
              "15    16   0.093616      3 2024-04-24 10:30:38.252619+00:00\n",
              "16    17   0.242001      3 2024-04-24 10:30:39.325631+00:00\n",
              "17    18   0.212770      3 2024-04-24 10:30:40.076399+00:00\n",
              "18    19   0.140402      3 2024-04-24 10:30:40.880402+00:00\n",
              "19    20   0.024125      4 2024-04-24 10:30:42.021715+00:00\n",
              "20    21   0.017379      4 2024-04-24 10:30:42.784846+00:00\n",
              "21    22   0.000919      4 2024-04-24 10:30:43.909668+00:00\n",
              "22    23   0.000531      4 2024-04-24 10:30:44.872070+00:00\n",
              "23    24   0.029849      4 2024-04-24 10:30:45.585426+00:00\n",
              "24    25   0.002748      5 2024-04-24 10:30:46.728560+00:00\n",
              "25    26   0.000509      5 2024-04-24 10:30:47.484151+00:00\n",
              "26    27   0.276650      5 2024-04-24 10:30:48.776328+00:00\n",
              "27    28   0.392390      5 2024-04-24 10:30:49.764310+00:00\n",
              "28    29   0.001053      5 2024-04-24 10:30:50.793402+00:00\n",
              "29    30   0.000056      6 2024-04-24 10:30:52.124164+00:00\n",
              "30    31   0.046345      6 2024-04-24 10:30:53.348902+00:00\n",
              "31    32   0.000002      6 2024-04-24 10:30:54.223342+00:00\n",
              "32    33   0.000006      6 2024-04-24 10:30:55.612380+00:00\n",
              "33    34   0.000344      6 2024-04-24 10:30:56.366293+00:00\n",
              "34    35   3.340295      7 2024-04-24 10:30:57.426660+00:00\n",
              "35    36  -0.000004      7 2024-04-24 10:30:58.597782+00:00\n",
              "36    37   0.032265      7 2024-04-24 10:30:59.348811+00:00\n",
              "37    38   1.001330      7 2024-04-24 10:31:00.529494+00:00\n",
              "38    39   0.001765      7 2024-04-24 10:31:01.512563+00:00\n",
              "39    40   0.016344      8 2024-04-24 10:31:03.564276+00:00\n",
              "40    41   0.120821      8 2024-04-24 10:31:04.559378+00:00\n",
              "41    42   0.259542      8 2024-04-24 10:31:05.753027+00:00\n",
              "42    43   0.026859      8 2024-04-24 10:31:07.517341+00:00\n",
              "43    44   0.008885      8 2024-04-24 10:31:08.251624+00:00\n",
              "44    45   0.009349      9 2024-04-24 10:31:09.287867+00:00\n",
              "45    46   0.037529      9 2024-04-24 10:31:10.287757+00:00\n",
              "46    47   0.015327      9 2024-04-24 10:31:11.496185+00:00\n",
              "47    48   0.012311      9 2024-04-24 10:31:12.274994+00:00\n",
              "48    49   0.007111      9 2024-04-24 10:31:13.025113+00:00\n",
              "49    50   0.621042     10 2024-04-24 10:31:14.177597+00:00\n",
              "50    51   0.567438     10 2024-04-24 10:31:16.209817+00:00\n",
              "51    52   0.008018     10 2024-04-24 10:31:17.318758+00:00\n",
              "52    53   0.067827     10 2024-04-24 10:31:19.245307+00:00\n",
              "53    54   0.010999     10 2024-04-24 10:31:20.619374+00:00\n",
              "54    55   0.023930     11 2024-04-24 10:31:21.418152+00:00"
            ],
            "text/html": [
              "\n",
              "  <div id=\"df-20cf5fdb-fd05-4fc9-969e-21393b860523\" class=\"colab-df-container\">\n",
              "    <div>\n",
              "<style scoped>\n",
              "    .dataframe tbody tr th:only-of-type {\n",
              "        vertical-align: middle;\n",
              "    }\n",
              "\n",
              "    .dataframe tbody tr th {\n",
              "        vertical-align: top;\n",
              "    }\n",
              "\n",
              "    .dataframe thead th {\n",
              "        text-align: right;\n",
              "    }\n",
              "</style>\n",
              "<table border=\"1\" class=\"dataframe\">\n",
              "  <thead>\n",
              "    <tr style=\"text-align: right;\">\n",
              "      <th></th>\n",
              "      <th>step</th>\n",
              "      <th>mean_loss</th>\n",
              "      <th>epoch</th>\n",
              "      <th>compute_time</th>\n",
              "    </tr>\n",
              "  </thead>\n",
              "  <tbody>\n",
              "    <tr>\n",
              "      <th>0</th>\n",
              "      <td>1</td>\n",
              "      <td>26.829763</td>\n",
              "      <td>0</td>\n",
              "      <td>2024-04-24 10:30:23.414356+00:00</td>\n",
              "    </tr>\n",
              "    <tr>\n",
              "      <th>1</th>\n",
              "      <td>2</td>\n",
              "      <td>22.083675</td>\n",
              "      <td>0</td>\n",
              "      <td>2024-04-24 10:30:24.345695+00:00</td>\n",
              "    </tr>\n",
              "    <tr>\n",
              "      <th>2</th>\n",
              "      <td>3</td>\n",
              "      <td>16.240812</td>\n",
              "      <td>0</td>\n",
              "      <td>2024-04-24 10:30:25.112362+00:00</td>\n",
              "    </tr>\n",
              "    <tr>\n",
              "      <th>3</th>\n",
              "      <td>4</td>\n",
              "      <td>10.651561</td>\n",
              "      <td>0</td>\n",
              "      <td>2024-04-24 10:30:26.158208+00:00</td>\n",
              "    </tr>\n",
              "    <tr>\n",
              "      <th>4</th>\n",
              "      <td>5</td>\n",
              "      <td>6.792531</td>\n",
              "      <td>1</td>\n",
              "      <td>2024-04-24 10:30:27.096258+00:00</td>\n",
              "    </tr>\n",
              "    <tr>\n",
              "      <th>5</th>\n",
              "      <td>6</td>\n",
              "      <td>4.342026</td>\n",
              "      <td>1</td>\n",
              "      <td>2024-04-24 10:30:28.108549+00:00</td>\n",
              "    </tr>\n",
              "    <tr>\n",
              "      <th>6</th>\n",
              "      <td>7</td>\n",
              "      <td>3.093372</td>\n",
              "      <td>1</td>\n",
              "      <td>2024-04-24 10:30:29.000822+00:00</td>\n",
              "    </tr>\n",
              "    <tr>\n",
              "      <th>7</th>\n",
              "      <td>8</td>\n",
              "      <td>3.150377</td>\n",
              "      <td>1</td>\n",
              "      <td>2024-04-24 10:30:29.840362+00:00</td>\n",
              "    </tr>\n",
              "    <tr>\n",
              "      <th>8</th>\n",
              "      <td>9</td>\n",
              "      <td>1.574233</td>\n",
              "      <td>1</td>\n",
              "      <td>2024-04-24 10:30:31.150727+00:00</td>\n",
              "    </tr>\n",
              "    <tr>\n",
              "      <th>9</th>\n",
              "      <td>10</td>\n",
              "      <td>2.658485</td>\n",
              "      <td>2</td>\n",
              "      <td>2024-04-24 10:30:31.932893+00:00</td>\n",
              "    </tr>\n",
              "    <tr>\n",
              "      <th>10</th>\n",
              "      <td>11</td>\n",
              "      <td>0.743004</td>\n",
              "      <td>2</td>\n",
              "      <td>2024-04-24 10:30:32.874645+00:00</td>\n",
              "    </tr>\n",
              "    <tr>\n",
              "      <th>11</th>\n",
              "      <td>12</td>\n",
              "      <td>0.612307</td>\n",
              "      <td>2</td>\n",
              "      <td>2024-04-24 10:30:34.044444+00:00</td>\n",
              "    </tr>\n",
              "    <tr>\n",
              "      <th>12</th>\n",
              "      <td>13</td>\n",
              "      <td>0.706018</td>\n",
              "      <td>2</td>\n",
              "      <td>2024-04-24 10:30:35.309220+00:00</td>\n",
              "    </tr>\n",
              "    <tr>\n",
              "      <th>13</th>\n",
              "      <td>14</td>\n",
              "      <td>0.665194</td>\n",
              "      <td>2</td>\n",
              "      <td>2024-04-24 10:30:36.060325+00:00</td>\n",
              "    </tr>\n",
              "    <tr>\n",
              "      <th>14</th>\n",
              "      <td>15</td>\n",
              "      <td>0.886586</td>\n",
              "      <td>3</td>\n",
              "      <td>2024-04-24 10:30:37.458530+00:00</td>\n",
              "    </tr>\n",
              "    <tr>\n",
              "      <th>15</th>\n",
              "      <td>16</td>\n",
              "      <td>0.093616</td>\n",
              "      <td>3</td>\n",
              "      <td>2024-04-24 10:30:38.252619+00:00</td>\n",
              "    </tr>\n",
              "    <tr>\n",
              "      <th>16</th>\n",
              "      <td>17</td>\n",
              "      <td>0.242001</td>\n",
              "      <td>3</td>\n",
              "      <td>2024-04-24 10:30:39.325631+00:00</td>\n",
              "    </tr>\n",
              "    <tr>\n",
              "      <th>17</th>\n",
              "      <td>18</td>\n",
              "      <td>0.212770</td>\n",
              "      <td>3</td>\n",
              "      <td>2024-04-24 10:30:40.076399+00:00</td>\n",
              "    </tr>\n",
              "    <tr>\n",
              "      <th>18</th>\n",
              "      <td>19</td>\n",
              "      <td>0.140402</td>\n",
              "      <td>3</td>\n",
              "      <td>2024-04-24 10:30:40.880402+00:00</td>\n",
              "    </tr>\n",
              "    <tr>\n",
              "      <th>19</th>\n",
              "      <td>20</td>\n",
              "      <td>0.024125</td>\n",
              "      <td>4</td>\n",
              "      <td>2024-04-24 10:30:42.021715+00:00</td>\n",
              "    </tr>\n",
              "    <tr>\n",
              "      <th>20</th>\n",
              "      <td>21</td>\n",
              "      <td>0.017379</td>\n",
              "      <td>4</td>\n",
              "      <td>2024-04-24 10:30:42.784846+00:00</td>\n",
              "    </tr>\n",
              "    <tr>\n",
              "      <th>21</th>\n",
              "      <td>22</td>\n",
              "      <td>0.000919</td>\n",
              "      <td>4</td>\n",
              "      <td>2024-04-24 10:30:43.909668+00:00</td>\n",
              "    </tr>\n",
              "    <tr>\n",
              "      <th>22</th>\n",
              "      <td>23</td>\n",
              "      <td>0.000531</td>\n",
              "      <td>4</td>\n",
              "      <td>2024-04-24 10:30:44.872070+00:00</td>\n",
              "    </tr>\n",
              "    <tr>\n",
              "      <th>23</th>\n",
              "      <td>24</td>\n",
              "      <td>0.029849</td>\n",
              "      <td>4</td>\n",
              "      <td>2024-04-24 10:30:45.585426+00:00</td>\n",
              "    </tr>\n",
              "    <tr>\n",
              "      <th>24</th>\n",
              "      <td>25</td>\n",
              "      <td>0.002748</td>\n",
              "      <td>5</td>\n",
              "      <td>2024-04-24 10:30:46.728560+00:00</td>\n",
              "    </tr>\n",
              "    <tr>\n",
              "      <th>25</th>\n",
              "      <td>26</td>\n",
              "      <td>0.000509</td>\n",
              "      <td>5</td>\n",
              "      <td>2024-04-24 10:30:47.484151+00:00</td>\n",
              "    </tr>\n",
              "    <tr>\n",
              "      <th>26</th>\n",
              "      <td>27</td>\n",
              "      <td>0.276650</td>\n",
              "      <td>5</td>\n",
              "      <td>2024-04-24 10:30:48.776328+00:00</td>\n",
              "    </tr>\n",
              "    <tr>\n",
              "      <th>27</th>\n",
              "      <td>28</td>\n",
              "      <td>0.392390</td>\n",
              "      <td>5</td>\n",
              "      <td>2024-04-24 10:30:49.764310+00:00</td>\n",
              "    </tr>\n",
              "    <tr>\n",
              "      <th>28</th>\n",
              "      <td>29</td>\n",
              "      <td>0.001053</td>\n",
              "      <td>5</td>\n",
              "      <td>2024-04-24 10:30:50.793402+00:00</td>\n",
              "    </tr>\n",
              "    <tr>\n",
              "      <th>29</th>\n",
              "      <td>30</td>\n",
              "      <td>0.000056</td>\n",
              "      <td>6</td>\n",
              "      <td>2024-04-24 10:30:52.124164+00:00</td>\n",
              "    </tr>\n",
              "    <tr>\n",
              "      <th>30</th>\n",
              "      <td>31</td>\n",
              "      <td>0.046345</td>\n",
              "      <td>6</td>\n",
              "      <td>2024-04-24 10:30:53.348902+00:00</td>\n",
              "    </tr>\n",
              "    <tr>\n",
              "      <th>31</th>\n",
              "      <td>32</td>\n",
              "      <td>0.000002</td>\n",
              "      <td>6</td>\n",
              "      <td>2024-04-24 10:30:54.223342+00:00</td>\n",
              "    </tr>\n",
              "    <tr>\n",
              "      <th>32</th>\n",
              "      <td>33</td>\n",
              "      <td>0.000006</td>\n",
              "      <td>6</td>\n",
              "      <td>2024-04-24 10:30:55.612380+00:00</td>\n",
              "    </tr>\n",
              "    <tr>\n",
              "      <th>33</th>\n",
              "      <td>34</td>\n",
              "      <td>0.000344</td>\n",
              "      <td>6</td>\n",
              "      <td>2024-04-24 10:30:56.366293+00:00</td>\n",
              "    </tr>\n",
              "    <tr>\n",
              "      <th>34</th>\n",
              "      <td>35</td>\n",
              "      <td>3.340295</td>\n",
              "      <td>7</td>\n",
              "      <td>2024-04-24 10:30:57.426660+00:00</td>\n",
              "    </tr>\n",
              "    <tr>\n",
              "      <th>35</th>\n",
              "      <td>36</td>\n",
              "      <td>-0.000004</td>\n",
              "      <td>7</td>\n",
              "      <td>2024-04-24 10:30:58.597782+00:00</td>\n",
              "    </tr>\n",
              "    <tr>\n",
              "      <th>36</th>\n",
              "      <td>37</td>\n",
              "      <td>0.032265</td>\n",
              "      <td>7</td>\n",
              "      <td>2024-04-24 10:30:59.348811+00:00</td>\n",
              "    </tr>\n",
              "    <tr>\n",
              "      <th>37</th>\n",
              "      <td>38</td>\n",
              "      <td>1.001330</td>\n",
              "      <td>7</td>\n",
              "      <td>2024-04-24 10:31:00.529494+00:00</td>\n",
              "    </tr>\n",
              "    <tr>\n",
              "      <th>38</th>\n",
              "      <td>39</td>\n",
              "      <td>0.001765</td>\n",
              "      <td>7</td>\n",
              "      <td>2024-04-24 10:31:01.512563+00:00</td>\n",
              "    </tr>\n",
              "    <tr>\n",
              "      <th>39</th>\n",
              "      <td>40</td>\n",
              "      <td>0.016344</td>\n",
              "      <td>8</td>\n",
              "      <td>2024-04-24 10:31:03.564276+00:00</td>\n",
              "    </tr>\n",
              "    <tr>\n",
              "      <th>40</th>\n",
              "      <td>41</td>\n",
              "      <td>0.120821</td>\n",
              "      <td>8</td>\n",
              "      <td>2024-04-24 10:31:04.559378+00:00</td>\n",
              "    </tr>\n",
              "    <tr>\n",
              "      <th>41</th>\n",
              "      <td>42</td>\n",
              "      <td>0.259542</td>\n",
              "      <td>8</td>\n",
              "      <td>2024-04-24 10:31:05.753027+00:00</td>\n",
              "    </tr>\n",
              "    <tr>\n",
              "      <th>42</th>\n",
              "      <td>43</td>\n",
              "      <td>0.026859</td>\n",
              "      <td>8</td>\n",
              "      <td>2024-04-24 10:31:07.517341+00:00</td>\n",
              "    </tr>\n",
              "    <tr>\n",
              "      <th>43</th>\n",
              "      <td>44</td>\n",
              "      <td>0.008885</td>\n",
              "      <td>8</td>\n",
              "      <td>2024-04-24 10:31:08.251624+00:00</td>\n",
              "    </tr>\n",
              "    <tr>\n",
              "      <th>44</th>\n",
              "      <td>45</td>\n",
              "      <td>0.009349</td>\n",
              "      <td>9</td>\n",
              "      <td>2024-04-24 10:31:09.287867+00:00</td>\n",
              "    </tr>\n",
              "    <tr>\n",
              "      <th>45</th>\n",
              "      <td>46</td>\n",
              "      <td>0.037529</td>\n",
              "      <td>9</td>\n",
              "      <td>2024-04-24 10:31:10.287757+00:00</td>\n",
              "    </tr>\n",
              "    <tr>\n",
              "      <th>46</th>\n",
              "      <td>47</td>\n",
              "      <td>0.015327</td>\n",
              "      <td>9</td>\n",
              "      <td>2024-04-24 10:31:11.496185+00:00</td>\n",
              "    </tr>\n",
              "    <tr>\n",
              "      <th>47</th>\n",
              "      <td>48</td>\n",
              "      <td>0.012311</td>\n",
              "      <td>9</td>\n",
              "      <td>2024-04-24 10:31:12.274994+00:00</td>\n",
              "    </tr>\n",
              "    <tr>\n",
              "      <th>48</th>\n",
              "      <td>49</td>\n",
              "      <td>0.007111</td>\n",
              "      <td>9</td>\n",
              "      <td>2024-04-24 10:31:13.025113+00:00</td>\n",
              "    </tr>\n",
              "    <tr>\n",
              "      <th>49</th>\n",
              "      <td>50</td>\n",
              "      <td>0.621042</td>\n",
              "      <td>10</td>\n",
              "      <td>2024-04-24 10:31:14.177597+00:00</td>\n",
              "    </tr>\n",
              "    <tr>\n",
              "      <th>50</th>\n",
              "      <td>51</td>\n",
              "      <td>0.567438</td>\n",
              "      <td>10</td>\n",
              "      <td>2024-04-24 10:31:16.209817+00:00</td>\n",
              "    </tr>\n",
              "    <tr>\n",
              "      <th>51</th>\n",
              "      <td>52</td>\n",
              "      <td>0.008018</td>\n",
              "      <td>10</td>\n",
              "      <td>2024-04-24 10:31:17.318758+00:00</td>\n",
              "    </tr>\n",
              "    <tr>\n",
              "      <th>52</th>\n",
              "      <td>53</td>\n",
              "      <td>0.067827</td>\n",
              "      <td>10</td>\n",
              "      <td>2024-04-24 10:31:19.245307+00:00</td>\n",
              "    </tr>\n",
              "    <tr>\n",
              "      <th>53</th>\n",
              "      <td>54</td>\n",
              "      <td>0.010999</td>\n",
              "      <td>10</td>\n",
              "      <td>2024-04-24 10:31:20.619374+00:00</td>\n",
              "    </tr>\n",
              "    <tr>\n",
              "      <th>54</th>\n",
              "      <td>55</td>\n",
              "      <td>0.023930</td>\n",
              "      <td>11</td>\n",
              "      <td>2024-04-24 10:31:21.418152+00:00</td>\n",
              "    </tr>\n",
              "  </tbody>\n",
              "</table>\n",
              "</div>\n",
              "    <div class=\"colab-df-buttons\">\n",
              "\n",
              "  <div class=\"colab-df-container\">\n",
              "    <button class=\"colab-df-convert\" onclick=\"convertToInteractive('df-20cf5fdb-fd05-4fc9-969e-21393b860523')\"\n",
              "            title=\"Convert this dataframe to an interactive table.\"\n",
              "            style=\"display:none;\">\n",
              "\n",
              "  <svg xmlns=\"http://www.w3.org/2000/svg\" height=\"24px\" viewBox=\"0 -960 960 960\">\n",
              "    <path d=\"M120-120v-720h720v720H120Zm60-500h600v-160H180v160Zm220 220h160v-160H400v160Zm0 220h160v-160H400v160ZM180-400h160v-160H180v160Zm440 0h160v-160H620v160ZM180-180h160v-160H180v160Zm440 0h160v-160H620v160Z\"/>\n",
              "  </svg>\n",
              "    </button>\n",
              "\n",
              "  <style>\n",
              "    .colab-df-container {\n",
              "      display:flex;\n",
              "      gap: 12px;\n",
              "    }\n",
              "\n",
              "    .colab-df-convert {\n",
              "      background-color: #E8F0FE;\n",
              "      border: none;\n",
              "      border-radius: 50%;\n",
              "      cursor: pointer;\n",
              "      display: none;\n",
              "      fill: #1967D2;\n",
              "      height: 32px;\n",
              "      padding: 0 0 0 0;\n",
              "      width: 32px;\n",
              "    }\n",
              "\n",
              "    .colab-df-convert:hover {\n",
              "      background-color: #E2EBFA;\n",
              "      box-shadow: 0px 1px 2px rgba(60, 64, 67, 0.3), 0px 1px 3px 1px rgba(60, 64, 67, 0.15);\n",
              "      fill: #174EA6;\n",
              "    }\n",
              "\n",
              "    .colab-df-buttons div {\n",
              "      margin-bottom: 4px;\n",
              "    }\n",
              "\n",
              "    [theme=dark] .colab-df-convert {\n",
              "      background-color: #3B4455;\n",
              "      fill: #D2E3FC;\n",
              "    }\n",
              "\n",
              "    [theme=dark] .colab-df-convert:hover {\n",
              "      background-color: #434B5C;\n",
              "      box-shadow: 0px 1px 3px 1px rgba(0, 0, 0, 0.15);\n",
              "      filter: drop-shadow(0px 1px 2px rgba(0, 0, 0, 0.3));\n",
              "      fill: #FFFFFF;\n",
              "    }\n",
              "  </style>\n",
              "\n",
              "    <script>\n",
              "      const buttonEl =\n",
              "        document.querySelector('#df-20cf5fdb-fd05-4fc9-969e-21393b860523 button.colab-df-convert');\n",
              "      buttonEl.style.display =\n",
              "        google.colab.kernel.accessAllowed ? 'block' : 'none';\n",
              "\n",
              "      async function convertToInteractive(key) {\n",
              "        const element = document.querySelector('#df-20cf5fdb-fd05-4fc9-969e-21393b860523');\n",
              "        const dataTable =\n",
              "          await google.colab.kernel.invokeFunction('convertToInteractive',\n",
              "                                                    [key], {});\n",
              "        if (!dataTable) return;\n",
              "\n",
              "        const docLinkHtml = 'Like what you see? Visit the ' +\n",
              "          '<a target=\"_blank\" href=https://colab.research.google.com/notebooks/data_table.ipynb>data table notebook</a>'\n",
              "          + ' to learn more about interactive tables.';\n",
              "        element.innerHTML = '';\n",
              "        dataTable['output_type'] = 'display_data';\n",
              "        await google.colab.output.renderOutput(dataTable, element);\n",
              "        const docLink = document.createElement('div');\n",
              "        docLink.innerHTML = docLinkHtml;\n",
              "        element.appendChild(docLink);\n",
              "      }\n",
              "    </script>\n",
              "  </div>\n",
              "\n",
              "\n",
              "<div id=\"df-a7ba2ae1-9851-4605-b851-458f42c2f23b\">\n",
              "  <button class=\"colab-df-quickchart\" onclick=\"quickchart('df-a7ba2ae1-9851-4605-b851-458f42c2f23b')\"\n",
              "            title=\"Suggest charts\"\n",
              "            style=\"display:none;\">\n",
              "\n",
              "<svg xmlns=\"http://www.w3.org/2000/svg\" height=\"24px\"viewBox=\"0 0 24 24\"\n",
              "     width=\"24px\">\n",
              "    <g>\n",
              "        <path d=\"M19 3H5c-1.1 0-2 .9-2 2v14c0 1.1.9 2 2 2h14c1.1 0 2-.9 2-2V5c0-1.1-.9-2-2-2zM9 17H7v-7h2v7zm4 0h-2V7h2v10zm4 0h-2v-4h2v4z\"/>\n",
              "    </g>\n",
              "</svg>\n",
              "  </button>\n",
              "\n",
              "<style>\n",
              "  .colab-df-quickchart {\n",
              "      --bg-color: #E8F0FE;\n",
              "      --fill-color: #1967D2;\n",
              "      --hover-bg-color: #E2EBFA;\n",
              "      --hover-fill-color: #174EA6;\n",
              "      --disabled-fill-color: #AAA;\n",
              "      --disabled-bg-color: #DDD;\n",
              "  }\n",
              "\n",
              "  [theme=dark] .colab-df-quickchart {\n",
              "      --bg-color: #3B4455;\n",
              "      --fill-color: #D2E3FC;\n",
              "      --hover-bg-color: #434B5C;\n",
              "      --hover-fill-color: #FFFFFF;\n",
              "      --disabled-bg-color: #3B4455;\n",
              "      --disabled-fill-color: #666;\n",
              "  }\n",
              "\n",
              "  .colab-df-quickchart {\n",
              "    background-color: var(--bg-color);\n",
              "    border: none;\n",
              "    border-radius: 50%;\n",
              "    cursor: pointer;\n",
              "    display: none;\n",
              "    fill: var(--fill-color);\n",
              "    height: 32px;\n",
              "    padding: 0;\n",
              "    width: 32px;\n",
              "  }\n",
              "\n",
              "  .colab-df-quickchart:hover {\n",
              "    background-color: var(--hover-bg-color);\n",
              "    box-shadow: 0 1px 2px rgba(60, 64, 67, 0.3), 0 1px 3px 1px rgba(60, 64, 67, 0.15);\n",
              "    fill: var(--button-hover-fill-color);\n",
              "  }\n",
              "\n",
              "  .colab-df-quickchart-complete:disabled,\n",
              "  .colab-df-quickchart-complete:disabled:hover {\n",
              "    background-color: var(--disabled-bg-color);\n",
              "    fill: var(--disabled-fill-color);\n",
              "    box-shadow: none;\n",
              "  }\n",
              "\n",
              "  .colab-df-spinner {\n",
              "    border: 2px solid var(--fill-color);\n",
              "    border-color: transparent;\n",
              "    border-bottom-color: var(--fill-color);\n",
              "    animation:\n",
              "      spin 1s steps(1) infinite;\n",
              "  }\n",
              "\n",
              "  @keyframes spin {\n",
              "    0% {\n",
              "      border-color: transparent;\n",
              "      border-bottom-color: var(--fill-color);\n",
              "      border-left-color: var(--fill-color);\n",
              "    }\n",
              "    20% {\n",
              "      border-color: transparent;\n",
              "      border-left-color: var(--fill-color);\n",
              "      border-top-color: var(--fill-color);\n",
              "    }\n",
              "    30% {\n",
              "      border-color: transparent;\n",
              "      border-left-color: var(--fill-color);\n",
              "      border-top-color: var(--fill-color);\n",
              "      border-right-color: var(--fill-color);\n",
              "    }\n",
              "    40% {\n",
              "      border-color: transparent;\n",
              "      border-right-color: var(--fill-color);\n",
              "      border-top-color: var(--fill-color);\n",
              "    }\n",
              "    60% {\n",
              "      border-color: transparent;\n",
              "      border-right-color: var(--fill-color);\n",
              "    }\n",
              "    80% {\n",
              "      border-color: transparent;\n",
              "      border-right-color: var(--fill-color);\n",
              "      border-bottom-color: var(--fill-color);\n",
              "    }\n",
              "    90% {\n",
              "      border-color: transparent;\n",
              "      border-bottom-color: var(--fill-color);\n",
              "    }\n",
              "  }\n",
              "</style>\n",
              "\n",
              "  <script>\n",
              "    async function quickchart(key) {\n",
              "      const quickchartButtonEl =\n",
              "        document.querySelector('#' + key + ' button');\n",
              "      quickchartButtonEl.disabled = true;  // To prevent multiple clicks.\n",
              "      quickchartButtonEl.classList.add('colab-df-spinner');\n",
              "      try {\n",
              "        const charts = await google.colab.kernel.invokeFunction(\n",
              "            'suggestCharts', [key], {});\n",
              "      } catch (error) {\n",
              "        console.error('Error during call to suggestCharts:', error);\n",
              "      }\n",
              "      quickchartButtonEl.classList.remove('colab-df-spinner');\n",
              "      quickchartButtonEl.classList.add('colab-df-quickchart-complete');\n",
              "    }\n",
              "    (() => {\n",
              "      let quickchartButtonEl =\n",
              "        document.querySelector('#df-a7ba2ae1-9851-4605-b851-458f42c2f23b button');\n",
              "      quickchartButtonEl.style.display =\n",
              "        google.colab.kernel.accessAllowed ? 'block' : 'none';\n",
              "    })();\n",
              "  </script>\n",
              "</div>\n",
              "\n",
              "    </div>\n",
              "  </div>\n"
            ],
            "application/vnd.google.colaboratory.intrinsic+json": {
              "type": "dataframe",
              "summary": "{\n  \"name\": \"pd\",\n  \"rows\": 55,\n  \"fields\": [\n    {\n      \"column\": \"step\",\n      \"properties\": {\n        \"dtype\": \"number\",\n        \"std\": 16,\n        \"min\": 1,\n        \"max\": 55,\n        \"num_unique_values\": 55,\n        \"samples\": [\n          32,\n          6,\n          33\n        ],\n        \"semantic_type\": \"\",\n        \"description\": \"\"\n      }\n    },\n    {\n      \"column\": \"mean_loss\",\n      \"properties\": {\n        \"dtype\": \"number\",\n        \"std\": 5.235071634811447,\n        \"min\": -3.7008485e-06,\n        \"max\": 26.829763,\n        \"num_unique_values\": 55,\n        \"samples\": [\n          2.4556648e-06,\n          4.342026,\n          6.4821197e-06\n        ],\n        \"semantic_type\": \"\",\n        \"description\": \"\"\n      }\n    },\n    {\n      \"column\": \"epoch\",\n      \"properties\": {\n        \"dtype\": \"number\",\n        \"std\": 3,\n        \"min\": 0,\n        \"max\": 11,\n        \"num_unique_values\": 12,\n        \"samples\": [\n          10,\n          9,\n          0\n        ],\n        \"semantic_type\": \"\",\n        \"description\": \"\"\n      }\n    },\n    {\n      \"column\": \"compute_time\",\n      \"properties\": {\n        \"dtype\": \"date\",\n        \"min\": \"2024-04-24 10:30:23.414356+00:00\",\n        \"max\": \"2024-04-24 10:31:21.418152+00:00\",\n        \"num_unique_values\": 55,\n        \"samples\": [\n          \"2024-04-24 10:30:54.223342+00:00\",\n          \"2024-04-24 10:30:28.108549+00:00\",\n          \"2024-04-24 10:30:55.612380+00:00\"\n        ],\n        \"semantic_type\": \"\",\n        \"description\": \"\"\n      }\n    }\n  ]\n}"
            }
          },
          "metadata": {},
          "execution_count": 36
        }
      ]
    },
    {
      "cell_type": "markdown",
      "metadata": {
        "id": "rkoQTXb1vSBC"
      },
      "source": [
        "## Evaluate your model\n",
        "\n",
        "You can use the `genai.generate_text` method and specify the name of your model to test your model performance."
      ]
    },
    {
      "cell_type": "code",
      "execution_count": null,
      "metadata": {
        "id": "zO0YcuSyxydZ"
      },
      "outputs": [],
      "source": [
        "model2 = genai.GenerativeModel(model_name=model.name)"
      ]
    },
    {
      "cell_type": "code",
      "source": [
        "model.name"
      ],
      "metadata": {
        "colab": {
          "base_uri": "https://localhost:8080/",
          "height": 35
        },
        "id": "4sOxFzu3f-Eh",
        "outputId": "4687cb26-95c8-4381-c396-92ef2942f66c"
      },
      "execution_count": null,
      "outputs": [
        {
          "output_type": "execute_result",
          "data": {
            "text/plain": [
              "'tunedModels/generatenum6484'"
            ],
            "application/vnd.google.colaboratory.intrinsic+json": {
              "type": "string"
            }
          },
          "metadata": {},
          "execution_count": 38
        }
      ]
    },
    {
      "cell_type": "code",
      "source": [
        "system"
      ],
      "metadata": {
        "id": "MiZTMIuiSOPK",
        "colab": {
          "base_uri": "https://localhost:8080/",
          "height": 70
        },
        "outputId": "bafa4c41-0e6d-4b15-d817-099dfd5f5ba7"
      },
      "execution_count": null,
      "outputs": [
        {
          "output_type": "execute_result",
          "data": {
            "text/plain": [
              "\"Extract the labels delimited by XML tags from text delimited by XML tags and return them in dict type.\\n<labels>'Person': <person names and surnames>, 'Time': <word or words indicating time like this week, last month, summer, next month etc.>', 'Currency':<all currencies like USD, EURO, etc.>, 'Place':<settlement like country, city, district etc.> </labels>\\n<text>\""
            ],
            "application/vnd.google.colaboratory.intrinsic+json": {
              "type": "string"
            }
          },
          "metadata": {},
          "execution_count": 40
        }
      ]
    },
    {
      "cell_type": "code",
      "source": [
        "text1=\"While I was on summer vacation in Turkey, Joseph earned 100 dollars, 100 euros in Germany and London.\""
      ],
      "metadata": {
        "id": "X3Elgm5jK62E"
      },
      "execution_count": null,
      "outputs": []
    },
    {
      "cell_type": "code",
      "source": [
        "prompt1=prompt_new([text1])\n",
        "prompt1"
      ],
      "metadata": {
        "colab": {
          "base_uri": "https://localhost:8080/"
        },
        "id": "oznfS0e1irBf",
        "outputId": "c4c7feaa-e770-48d3-e0d2-e933841e262c"
      },
      "execution_count": null,
      "outputs": [
        {
          "output_type": "execute_result",
          "data": {
            "text/plain": [
              "[\"Extract the labels delimited by XML tags from text delimited by XML tags and return them in dict type.\\n<labels>'Person': <person names and surnames>, 'Time': <word or words indicating time like this week, last month, summer, next month etc.>', 'Currency':<all currencies like USD, EURO, etc.>, 'Place':<settlement like country, city, district etc.> </labels>\\n<text>While I was on summer vacation in Turkey, Joseph earned 100 dollars, 100 euros in Germany and London.</text>\"]"
            ]
          },
          "metadata": {},
          "execution_count": 43
        }
      ]
    },
    {
      "cell_type": "code",
      "execution_count": null,
      "metadata": {
        "id": "UwGrrj6hS_x2",
        "outputId": "83021f2c-d8e3-4339-c950-7357665e40af",
        "colab": {
          "base_uri": "https://localhost:8080/",
          "height": 35
        }
      },
      "outputs": [
        {
          "output_type": "execute_result",
          "data": {
            "text/plain": [
              "\"{'Person': 'Joseph', 'Time': 'summer', 'Currency': ['dollars', 'euros'], 'Place': ['Turkey', 'Germany', 'London']}\""
            ],
            "application/vnd.google.colaboratory.intrinsic+json": {
              "type": "string"
            }
          },
          "metadata": {},
          "execution_count": 44
        }
      ],
      "source": [
        "result = model2.generate_content(prompt1)\n",
        "result.text"
      ]
    },
    {
      "cell_type": "code",
      "source": [
        "text2=\"My grandmother was a talented seamstress, and she taught me how to sew when I was young, which sparked a lifelong passion for fashion and design.\""
      ],
      "metadata": {
        "id": "OhWg1u5zMGAm"
      },
      "execution_count": null,
      "outputs": []
    },
    {
      "cell_type": "code",
      "execution_count": null,
      "metadata": {
        "id": "YSNB2zjTx5SZ",
        "outputId": "f5a2996e-17e0-4395-bd84-3be8b020de31",
        "colab": {
          "base_uri": "https://localhost:8080/",
          "height": 35
        }
      },
      "outputs": [
        {
          "output_type": "execute_result",
          "data": {
            "text/plain": [
              "\"{'Person': 'null', 'Time': 'null', 'Currency': 'null', 'Place': 'null'}\""
            ],
            "application/vnd.google.colaboratory.intrinsic+json": {
              "type": "string"
            }
          },
          "metadata": {},
          "execution_count": 46
        }
      ],
      "source": [
        "prompt2=prompt_new([text2])\n",
        "result = model2.generate_content(prompt2)\n",
        "result.text\n"
      ]
    },
    {
      "cell_type": "code",
      "source": [
        "text3=\"Johnson Walker and Maria got married last month. They bought a house in London for 100,000 sterling pounds.\""
      ],
      "metadata": {
        "id": "JQEZXnvYMc0d"
      },
      "execution_count": null,
      "outputs": []
    },
    {
      "cell_type": "code",
      "execution_count": null,
      "metadata": {
        "id": "Y2YVO-m0Ut9H",
        "outputId": "8dc07448-25e3-40ea-e903-45d5aeb4067a",
        "colab": {
          "base_uri": "https://localhost:8080/",
          "height": 35
        }
      },
      "outputs": [
        {
          "output_type": "execute_result",
          "data": {
            "text/plain": [
              "\"{'Person': ['Johnson Walker', 'Maria'], 'Time': 'last month', 'Currency': 'sterling pounds', 'Place': 'London'}\""
            ],
            "application/vnd.google.colaboratory.intrinsic+json": {
              "type": "string"
            }
          },
          "metadata": {},
          "execution_count": 49
        }
      ],
      "source": [
        "prompt3=prompt_new([text3])\n",
        "result = model2.generate_content(prompt3)\n",
        "result.text"
      ]
    },
    {
      "cell_type": "markdown",
      "metadata": {
        "id": "HpIA1IFevQQR"
      },
      "source": [
        "It really seems to have picked up the task despite the limited examples, but \"next\" is a simple concept, see the [tuning guide](https://ai.google.dev/docs/model_tuning_guidance) for more guidance on improving performance."
      ]
    },
    {
      "cell_type": "markdown",
      "metadata": {
        "id": "nmuQCbTYwIOx"
      },
      "source": [
        "## Update the description\n",
        "\n",
        "You can update the description of your tuned model any time using the `genai.update_tuned_model` method."
      ]
    },
    {
      "cell_type": "code",
      "execution_count": null,
      "metadata": {
        "id": "9gAVuXT_wG3x"
      },
      "outputs": [],
      "source": [
        "genai.update_tuned_model(f'{model.name}', {\"description\":\"This is my model.\"});"
      ]
    },
    {
      "cell_type": "code",
      "source": [
        "genai.update_tuned_model()"
      ],
      "metadata": {
        "id": "z3qyGizF9_Qc"
      },
      "execution_count": null,
      "outputs": []
    },
    {
      "cell_type": "code",
      "execution_count": null,
      "metadata": {
        "id": "d-c3YerBxVYs",
        "outputId": "4885c823-2a86-45de-968d-7a8cff06e712",
        "colab": {
          "base_uri": "https://localhost:8080/",
          "height": 36
        }
      },
      "outputs": [
        {
          "output_type": "execute_result",
          "data": {
            "text/plain": [
              "'This is my model.'"
            ],
            "application/vnd.google.colaboratory.intrinsic+json": {
              "type": "string"
            }
          },
          "metadata": {},
          "execution_count": 56
        }
      ],
      "source": [
        "model3 = genai.get_tuned_model(f'{model.name}')\n",
        "\n",
        "model3.description"
      ]
    },
    {
      "cell_type": "markdown",
      "metadata": {
        "id": "i_TpwvBB4bQ7"
      },
      "source": [
        "## Delete the model\n",
        "\n",
        "You can clean up your tuned model list by deleting models you no longer need. Use the `genai.delete_tuned_model` method to delete a model. If you canceled any tuning jobs, you may want to delete those as their performance may be unpredictable."
      ]
    },
    {
      "cell_type": "code",
      "execution_count": null,
      "metadata": {
        "id": "cepfaUCvVGCo"
      },
      "outputs": [],
      "source": [
        "genai.delete_tuned_model(f'{model.name}')"
      ]
    },
    {
      "cell_type": "markdown",
      "metadata": {
        "id": "ljEssIshYDEr"
      },
      "source": [
        "The model no longer exists:"
      ]
    },
    {
      "cell_type": "code",
      "execution_count": null,
      "metadata": {
        "id": "kN_bkut_4ayL",
        "outputId": "e9145179-9f84-4bb5-c61d-16cdd8b72e23",
        "colab": {
          "base_uri": "https://localhost:8080/"
        }
      },
      "outputs": [
        {
          "output_type": "stream",
          "name": "stdout",
          "text": [
            "<class 'google.api_core.exceptions.NotFound'>: 404 Tuned model tunedModels/generatenum5413-k1v8gczj7zz3 does not exist.\n"
          ]
        }
      ],
      "source": [
        "try:\n",
        "  m = genai.get_tuned_model(f'{model.name}')\n",
        "  print(m)\n",
        "except Exception as e:\n",
        "  print(f\"{type(e)}: {e}\")"
      ]
    }
  ],
  "metadata": {
    "colab": {
      "provenance": []
    },
    "kernelspec": {
      "display_name": "Python 3",
      "name": "python3"
    },
    "widgets": {
      "application/vnd.jupyter.widget-state+json": {
        "1f02ae401e2c4b9681611aa5e075b89e": {
          "model_module": "@jupyter-widgets/controls",
          "model_name": "HBoxModel",
          "model_module_version": "1.5.0",
          "state": {
            "_dom_classes": [],
            "_model_module": "@jupyter-widgets/controls",
            "_model_module_version": "1.5.0",
            "_model_name": "HBoxModel",
            "_view_count": null,
            "_view_module": "@jupyter-widgets/controls",
            "_view_module_version": "1.5.0",
            "_view_name": "HBoxView",
            "box_style": "",
            "children": [
              "IPY_MODEL_a9a08663a210437fb0aed41ce33e2ac7",
              "IPY_MODEL_246c8213968d4df6981c0f9cfdda11ec",
              "IPY_MODEL_5e7e35482f504bfcbcf1dc48446c42f8"
            ],
            "layout": "IPY_MODEL_535630ead873402db5cd7269c03a407d"
          }
        },
        "a9a08663a210437fb0aed41ce33e2ac7": {
          "model_module": "@jupyter-widgets/controls",
          "model_name": "HTMLModel",
          "model_module_version": "1.5.0",
          "state": {
            "_dom_classes": [],
            "_model_module": "@jupyter-widgets/controls",
            "_model_module_version": "1.5.0",
            "_model_name": "HTMLModel",
            "_view_count": null,
            "_view_module": "@jupyter-widgets/controls",
            "_view_module_version": "1.5.0",
            "_view_name": "HTMLView",
            "description": "",
            "description_tooltip": null,
            "layout": "IPY_MODEL_60bd601831fa457b90a6aabcdc746039",
            "placeholder": "​",
            "style": "IPY_MODEL_59e21bce4fcd4f2e893055456495e00a",
            "value": "100%"
          }
        },
        "246c8213968d4df6981c0f9cfdda11ec": {
          "model_module": "@jupyter-widgets/controls",
          "model_name": "FloatProgressModel",
          "model_module_version": "1.5.0",
          "state": {
            "_dom_classes": [],
            "_model_module": "@jupyter-widgets/controls",
            "_model_module_version": "1.5.0",
            "_model_name": "FloatProgressModel",
            "_view_count": null,
            "_view_module": "@jupyter-widgets/controls",
            "_view_module_version": "1.5.0",
            "_view_name": "ProgressView",
            "bar_style": "success",
            "description": "",
            "description_tooltip": null,
            "layout": "IPY_MODEL_77bafaf5d52e4e98bc02f6e6245f10a0",
            "max": 100,
            "min": 0,
            "orientation": "horizontal",
            "style": "IPY_MODEL_cbae7249a5c54592a2def561f5fc0a1a",
            "value": 100
          }
        },
        "5e7e35482f504bfcbcf1dc48446c42f8": {
          "model_module": "@jupyter-widgets/controls",
          "model_name": "HTMLModel",
          "model_module_version": "1.5.0",
          "state": {
            "_dom_classes": [],
            "_model_module": "@jupyter-widgets/controls",
            "_model_module_version": "1.5.0",
            "_model_name": "HTMLModel",
            "_view_count": null,
            "_view_module": "@jupyter-widgets/controls",
            "_view_module_version": "1.5.0",
            "_view_name": "HTMLView",
            "description": "",
            "description_tooltip": null,
            "layout": "IPY_MODEL_54579622c08246a2966bbde6fa52217d",
            "placeholder": "​",
            "style": "IPY_MODEL_6f1f4e5f132c48ab9617fdeceec83741",
            "value": " 100/100 [03:07&lt;00:00, 247.81it/s]"
          }
        },
        "535630ead873402db5cd7269c03a407d": {
          "model_module": "@jupyter-widgets/base",
          "model_name": "LayoutModel",
          "model_module_version": "1.2.0",
          "state": {
            "_model_module": "@jupyter-widgets/base",
            "_model_module_version": "1.2.0",
            "_model_name": "LayoutModel",
            "_view_count": null,
            "_view_module": "@jupyter-widgets/base",
            "_view_module_version": "1.2.0",
            "_view_name": "LayoutView",
            "align_content": null,
            "align_items": null,
            "align_self": null,
            "border": null,
            "bottom": null,
            "display": null,
            "flex": null,
            "flex_flow": null,
            "grid_area": null,
            "grid_auto_columns": null,
            "grid_auto_flow": null,
            "grid_auto_rows": null,
            "grid_column": null,
            "grid_gap": null,
            "grid_row": null,
            "grid_template_areas": null,
            "grid_template_columns": null,
            "grid_template_rows": null,
            "height": null,
            "justify_content": null,
            "justify_items": null,
            "left": null,
            "margin": null,
            "max_height": null,
            "max_width": null,
            "min_height": null,
            "min_width": null,
            "object_fit": null,
            "object_position": null,
            "order": null,
            "overflow": null,
            "overflow_x": null,
            "overflow_y": null,
            "padding": null,
            "right": null,
            "top": null,
            "visibility": null,
            "width": null
          }
        },
        "60bd601831fa457b90a6aabcdc746039": {
          "model_module": "@jupyter-widgets/base",
          "model_name": "LayoutModel",
          "model_module_version": "1.2.0",
          "state": {
            "_model_module": "@jupyter-widgets/base",
            "_model_module_version": "1.2.0",
            "_model_name": "LayoutModel",
            "_view_count": null,
            "_view_module": "@jupyter-widgets/base",
            "_view_module_version": "1.2.0",
            "_view_name": "LayoutView",
            "align_content": null,
            "align_items": null,
            "align_self": null,
            "border": null,
            "bottom": null,
            "display": null,
            "flex": null,
            "flex_flow": null,
            "grid_area": null,
            "grid_auto_columns": null,
            "grid_auto_flow": null,
            "grid_auto_rows": null,
            "grid_column": null,
            "grid_gap": null,
            "grid_row": null,
            "grid_template_areas": null,
            "grid_template_columns": null,
            "grid_template_rows": null,
            "height": null,
            "justify_content": null,
            "justify_items": null,
            "left": null,
            "margin": null,
            "max_height": null,
            "max_width": null,
            "min_height": null,
            "min_width": null,
            "object_fit": null,
            "object_position": null,
            "order": null,
            "overflow": null,
            "overflow_x": null,
            "overflow_y": null,
            "padding": null,
            "right": null,
            "top": null,
            "visibility": null,
            "width": null
          }
        },
        "59e21bce4fcd4f2e893055456495e00a": {
          "model_module": "@jupyter-widgets/controls",
          "model_name": "DescriptionStyleModel",
          "model_module_version": "1.5.0",
          "state": {
            "_model_module": "@jupyter-widgets/controls",
            "_model_module_version": "1.5.0",
            "_model_name": "DescriptionStyleModel",
            "_view_count": null,
            "_view_module": "@jupyter-widgets/base",
            "_view_module_version": "1.2.0",
            "_view_name": "StyleView",
            "description_width": ""
          }
        },
        "77bafaf5d52e4e98bc02f6e6245f10a0": {
          "model_module": "@jupyter-widgets/base",
          "model_name": "LayoutModel",
          "model_module_version": "1.2.0",
          "state": {
            "_model_module": "@jupyter-widgets/base",
            "_model_module_version": "1.2.0",
            "_model_name": "LayoutModel",
            "_view_count": null,
            "_view_module": "@jupyter-widgets/base",
            "_view_module_version": "1.2.0",
            "_view_name": "LayoutView",
            "align_content": null,
            "align_items": null,
            "align_self": null,
            "border": null,
            "bottom": null,
            "display": null,
            "flex": null,
            "flex_flow": null,
            "grid_area": null,
            "grid_auto_columns": null,
            "grid_auto_flow": null,
            "grid_auto_rows": null,
            "grid_column": null,
            "grid_gap": null,
            "grid_row": null,
            "grid_template_areas": null,
            "grid_template_columns": null,
            "grid_template_rows": null,
            "height": null,
            "justify_content": null,
            "justify_items": null,
            "left": null,
            "margin": null,
            "max_height": null,
            "max_width": null,
            "min_height": null,
            "min_width": null,
            "object_fit": null,
            "object_position": null,
            "order": null,
            "overflow": null,
            "overflow_x": null,
            "overflow_y": null,
            "padding": null,
            "right": null,
            "top": null,
            "visibility": null,
            "width": null
          }
        },
        "cbae7249a5c54592a2def561f5fc0a1a": {
          "model_module": "@jupyter-widgets/controls",
          "model_name": "ProgressStyleModel",
          "model_module_version": "1.5.0",
          "state": {
            "_model_module": "@jupyter-widgets/controls",
            "_model_module_version": "1.5.0",
            "_model_name": "ProgressStyleModel",
            "_view_count": null,
            "_view_module": "@jupyter-widgets/base",
            "_view_module_version": "1.2.0",
            "_view_name": "StyleView",
            "bar_color": null,
            "description_width": ""
          }
        },
        "54579622c08246a2966bbde6fa52217d": {
          "model_module": "@jupyter-widgets/base",
          "model_name": "LayoutModel",
          "model_module_version": "1.2.0",
          "state": {
            "_model_module": "@jupyter-widgets/base",
            "_model_module_version": "1.2.0",
            "_model_name": "LayoutModel",
            "_view_count": null,
            "_view_module": "@jupyter-widgets/base",
            "_view_module_version": "1.2.0",
            "_view_name": "LayoutView",
            "align_content": null,
            "align_items": null,
            "align_self": null,
            "border": null,
            "bottom": null,
            "display": null,
            "flex": null,
            "flex_flow": null,
            "grid_area": null,
            "grid_auto_columns": null,
            "grid_auto_flow": null,
            "grid_auto_rows": null,
            "grid_column": null,
            "grid_gap": null,
            "grid_row": null,
            "grid_template_areas": null,
            "grid_template_columns": null,
            "grid_template_rows": null,
            "height": null,
            "justify_content": null,
            "justify_items": null,
            "left": null,
            "margin": null,
            "max_height": null,
            "max_width": null,
            "min_height": null,
            "min_width": null,
            "object_fit": null,
            "object_position": null,
            "order": null,
            "overflow": null,
            "overflow_x": null,
            "overflow_y": null,
            "padding": null,
            "right": null,
            "top": null,
            "visibility": null,
            "width": null
          }
        },
        "6f1f4e5f132c48ab9617fdeceec83741": {
          "model_module": "@jupyter-widgets/controls",
          "model_name": "DescriptionStyleModel",
          "model_module_version": "1.5.0",
          "state": {
            "_model_module": "@jupyter-widgets/controls",
            "_model_module_version": "1.5.0",
            "_model_name": "DescriptionStyleModel",
            "_view_count": null,
            "_view_module": "@jupyter-widgets/base",
            "_view_module_version": "1.2.0",
            "_view_name": "StyleView",
            "description_width": ""
          }
        }
      }
    }
  },
  "nbformat": 4,
  "nbformat_minor": 0
}